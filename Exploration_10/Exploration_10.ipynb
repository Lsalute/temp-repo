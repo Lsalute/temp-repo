{
 "cells": [
  {
   "cell_type": "markdown",
   "id": "close-tender",
   "metadata": {},
   "source": [
    "# Exploration 10 : 뉴스 요약봇 만들기\n",
    "\n",
    "|평가문항|상세기준|\n",
    "|:---|:---|\n",
    "|1. Abstractive 모델 구성을 위한 텍스트 전처리 단계가 체계적으로 진행되었다.|분석단계, 정제단계, 정규화와 불용어 제거, 데이터셋 분리, 인코딩 과정이 빠짐없이 체계적으로 진행되었다.|\n",
    "|2. 텍스트 요약모델이 성공적으로 학습되었음을 확인하였다.|모델학습이 안정적으로 수렴되었음을 그래프를 통해 확인하였으며, 실제 요약문과 유사한 요약문장을 얻을 수 있었다.|\n",
    "|3. Extractive 요약을 시도해 보고 Abstractive 요약 결과과 함께 비교해 보았다.|두 요약 결과를 문법완성도 측면과 핵심단어 포함 측면으로 나누어 비교분석 결과를 제시하였다.|"
   ]
  },
  {
   "cell_type": "code",
   "execution_count": 19,
   "id": "adopted-bones",
   "metadata": {},
   "outputs": [
    {
     "name": "stderr",
     "output_type": "stream",
     "text": [
      "[nltk_data] Downloading package stopwords to /aiffel/nltk_data...\n",
      "[nltk_data]   Package stopwords is already up-to-date!\n"
     ]
    }
   ],
   "source": [
    "import nltk\n",
    "nltk.download('stopwords')\n",
    "\n",
    "import numpy as np\n",
    "import pandas as pd\n",
    "import os\n",
    "import re\n",
    "import matplotlib.pyplot as plt\n",
    "from nltk.corpus import stopwords\n",
    "from bs4 import BeautifulSoup \n",
    "from tensorflow.keras.preprocessing.text import Tokenizer \n",
    "from tensorflow.keras.preprocessing.sequence import pad_sequences\n",
    "import urllib.request"
   ]
  },
  {
   "cell_type": "markdown",
   "id": "banned-fence",
   "metadata": {},
   "source": [
    "## Step 1. 데이터 수집하기"
   ]
  },
  {
   "cell_type": "code",
   "execution_count": 20,
   "id": "aggressive-ceramic",
   "metadata": {},
   "outputs": [],
   "source": [
    "import urllib.request\n",
    "urllib.request.urlretrieve(\"https://raw.githubusercontent.com/sunnysai12345/News_Summary/master/news_summary_more.csv\", filename=\"news_summary_more.csv\")\n",
    "data = pd.read_csv('news_summary_more.csv', encoding='iso-8859-1')"
   ]
  },
  {
   "cell_type": "code",
   "execution_count": 21,
   "id": "bridal-listening",
   "metadata": {},
   "outputs": [
    {
     "data": {
      "text/html": [
       "<div>\n",
       "<style scoped>\n",
       "    .dataframe tbody tr th:only-of-type {\n",
       "        vertical-align: middle;\n",
       "    }\n",
       "\n",
       "    .dataframe tbody tr th {\n",
       "        vertical-align: top;\n",
       "    }\n",
       "\n",
       "    .dataframe thead th {\n",
       "        text-align: right;\n",
       "    }\n",
       "</style>\n",
       "<table border=\"1\" class=\"dataframe\">\n",
       "  <thead>\n",
       "    <tr style=\"text-align: right;\">\n",
       "      <th></th>\n",
       "      <th>headlines</th>\n",
       "      <th>text</th>\n",
       "    </tr>\n",
       "  </thead>\n",
       "  <tbody>\n",
       "    <tr>\n",
       "      <th>29397</th>\n",
       "      <td>Omar sanctions Ã¢ÂÂ¹1.3L for woman detained w...</td>\n",
       "      <td>National Conference MLA Omar Abdullah has sanc...</td>\n",
       "    </tr>\n",
       "    <tr>\n",
       "      <th>15720</th>\n",
       "      <td>Don't think Dhoni enjoyed ShahzadÃ¢ÂÂs knock...</td>\n",
       "      <td>Talking about wicketkeeper-batsman Mohammad Sh...</td>\n",
       "    </tr>\n",
       "    <tr>\n",
       "      <th>70471</th>\n",
       "      <td>Amazon user orders smartphone, gets detergent ...</td>\n",
       "      <td>A Facebook user has claimed he ordered a OnePl...</td>\n",
       "    </tr>\n",
       "    <tr>\n",
       "      <th>41723</th>\n",
       "      <td>HC sets aside I-T order against Kalanithi Mara...</td>\n",
       "      <td>The Madras HC has revoked a 2014 Income Tax De...</td>\n",
       "    </tr>\n",
       "    <tr>\n",
       "      <th>74226</th>\n",
       "      <td>Fintech startup raises $45 million in series C...</td>\n",
       "      <td>Bengaluru-based digital lending startup Capita...</td>\n",
       "    </tr>\n",
       "    <tr>\n",
       "      <th>93485</th>\n",
       "      <td>India to skip Sultan of Johor Cup due to Pakis...</td>\n",
       "      <td>The Indian men's hockey team will not particip...</td>\n",
       "    </tr>\n",
       "    <tr>\n",
       "      <th>97331</th>\n",
       "      <td>Why do our ears 'pop' in an airplane?</td>\n",
       "      <td>The low air pressure in an airplane causes an ...</td>\n",
       "    </tr>\n",
       "    <tr>\n",
       "      <th>66165</th>\n",
       "      <td>Mumbai man stabs manager 6 times for refusing ...</td>\n",
       "      <td>A 30-year-old employee of a housekeeping firm ...</td>\n",
       "    </tr>\n",
       "    <tr>\n",
       "      <th>50211</th>\n",
       "      <td>2 petrol bombs hurled at UP cinema hall over '...</td>\n",
       "      <td>Two petrol bombs were allegedly hurled at a ci...</td>\n",
       "    </tr>\n",
       "    <tr>\n",
       "      <th>50001</th>\n",
       "      <td>Government to withdraw its plea to take over U...</td>\n",
       "      <td>The government has informed the Supreme Court ...</td>\n",
       "    </tr>\n",
       "  </tbody>\n",
       "</table>\n",
       "</div>"
      ],
      "text/plain": [
       "                                               headlines  \\\n",
       "29397  Omar sanctions Ã¢ÂÂ¹1.3L for woman detained w...   \n",
       "15720  Don't think Dhoni enjoyed ShahzadÃ¢ÂÂs knock...   \n",
       "70471  Amazon user orders smartphone, gets detergent ...   \n",
       "41723  HC sets aside I-T order against Kalanithi Mara...   \n",
       "74226  Fintech startup raises $45 million in series C...   \n",
       "93485  India to skip Sultan of Johor Cup due to Pakis...   \n",
       "97331              Why do our ears 'pop' in an airplane?   \n",
       "66165  Mumbai man stabs manager 6 times for refusing ...   \n",
       "50211  2 petrol bombs hurled at UP cinema hall over '...   \n",
       "50001  Government to withdraw its plea to take over U...   \n",
       "\n",
       "                                                    text  \n",
       "29397  National Conference MLA Omar Abdullah has sanc...  \n",
       "15720  Talking about wicketkeeper-batsman Mohammad Sh...  \n",
       "70471  A Facebook user has claimed he ordered a OnePl...  \n",
       "41723  The Madras HC has revoked a 2014 Income Tax De...  \n",
       "74226  Bengaluru-based digital lending startup Capita...  \n",
       "93485  The Indian men's hockey team will not particip...  \n",
       "97331  The low air pressure in an airplane causes an ...  \n",
       "66165  A 30-year-old employee of a housekeeping firm ...  \n",
       "50211  Two petrol bombs were allegedly hurled at a ci...  \n",
       "50001  The government has informed the Supreme Court ...  "
      ]
     },
     "execution_count": 21,
     "metadata": {},
     "output_type": "execute_result"
    }
   ],
   "source": [
    "data.sample(10)"
   ]
  },
  {
   "cell_type": "markdown",
   "id": "polished-kuwait",
   "metadata": {},
   "source": [
    "## Step 2. 데이터 전처리하기 (추상적 요약)\n",
    "실습에서 사용된 전처리를 참고하여 각자 필요하다고 생각하는 전처리를 추가 사용하여 텍스트를 정규화 또는 정제해보자. \\\n",
    "만약, 불용어 제거를 선택한다면 상대적으로 길이가 짧은 요약 데이터에 대해서도 불용어를 제거하는 것이 좋을지 고민해보자."
   ]
  },
  {
   "cell_type": "markdown",
   "id": "level-belfast",
   "metadata": {},
   "source": [
    "### 중복데이터 제거"
   ]
  },
  {
   "cell_type": "code",
   "execution_count": 22,
   "id": "municipal-semester",
   "metadata": {},
   "outputs": [
    {
     "name": "stdout",
     "output_type": "stream",
     "text": [
      "headlines 열에서 중복을 배제한 유일한 샘플의 수 : 98280\n",
      "text 열에서 중복을 배제한 유일한 샘플의 수 : 98360\n"
     ]
    }
   ],
   "source": [
    "print('headlines 열에서 중복을 배제한 유일한 샘플의 수 :', data['headlines'].nunique())\n",
    "print('text 열에서 중복을 배제한 유일한 샘플의 수 :', data['text'].nunique())"
   ]
  },
  {
   "cell_type": "markdown",
   "id": "anonymous-mouth",
   "metadata": {},
   "source": [
    "`drop_duplicates`를 사용하여 null값 제거"
   ]
  },
  {
   "cell_type": "code",
   "execution_count": 23,
   "id": "celtic-villa",
   "metadata": {
    "scrolled": true
   },
   "outputs": [
    {
     "name": "stdout",
     "output_type": "stream",
     "text": [
      "전체 샘플수 : 98360\n"
     ]
    }
   ],
   "source": [
    "data.drop_duplicates(subset = ['text'], inplace=True)\n",
    "print('전체 샘플수 :', (len(data)))"
   ]
  },
  {
   "cell_type": "markdown",
   "id": "announced-shame",
   "metadata": {},
   "source": [
    "지워지지 않은 null값이 있나 확인해보기"
   ]
  },
  {
   "cell_type": "code",
   "execution_count": 24,
   "id": "meaning-progress",
   "metadata": {},
   "outputs": [
    {
     "name": "stdout",
     "output_type": "stream",
     "text": [
      "headlines    0\n",
      "text         0\n",
      "dtype: int64\n"
     ]
    }
   ],
   "source": [
    "print(data.isnull().sum())"
   ]
  },
  {
   "cell_type": "markdown",
   "id": "coated-bunch",
   "metadata": {},
   "source": [
    "### 텍스트 정규화와 불용어 제거"
   ]
  },
  {
   "cell_type": "code",
   "execution_count": 25,
   "id": "contemporary-northeast",
   "metadata": {},
   "outputs": [
    {
     "name": "stdout",
     "output_type": "stream",
     "text": [
      "정규화 사전의 수:  120\n"
     ]
    }
   ],
   "source": [
    "contractions = {\"ain't\": \"is not\", \"aren't\": \"are not\",\"can't\": \"cannot\", \"'cause\": \"because\", \"could've\": \"could have\", \"couldn't\": \"could not\",\n",
    "                           \"didn't\": \"did not\",  \"doesn't\": \"does not\", \"don't\": \"do not\", \"hadn't\": \"had not\", \"hasn't\": \"has not\", \"haven't\": \"have not\",\n",
    "                           \"he'd\": \"he would\",\"he'll\": \"he will\", \"he's\": \"he is\", \"how'd\": \"how did\", \"how'd'y\": \"how do you\", \"how'll\": \"how will\", \"how's\": \"how is\",\n",
    "                           \"I'd\": \"I would\", \"I'd've\": \"I would have\", \"I'll\": \"I will\", \"I'll've\": \"I will have\",\"I'm\": \"I am\", \"I've\": \"I have\", \"i'd\": \"i would\",\n",
    "                           \"i'd've\": \"i would have\", \"i'll\": \"i will\",  \"i'll've\": \"i will have\",\"i'm\": \"i am\", \"i've\": \"i have\", \"isn't\": \"is not\", \"it'd\": \"it would\",\n",
    "                           \"it'd've\": \"it would have\", \"it'll\": \"it will\", \"it'll've\": \"it will have\",\"it's\": \"it is\", \"let's\": \"let us\", \"ma'am\": \"madam\",\n",
    "                           \"mayn't\": \"may not\", \"might've\": \"might have\",\"mightn't\": \"might not\",\"mightn't've\": \"might not have\", \"must've\": \"must have\",\n",
    "                           \"mustn't\": \"must not\", \"mustn't've\": \"must not have\", \"needn't\": \"need not\", \"needn't've\": \"need not have\",\"o'clock\": \"of the clock\",\n",
    "                           \"oughtn't\": \"ought not\", \"oughtn't've\": \"ought not have\", \"shan't\": \"shall not\", \"sha'n't\": \"shall not\", \"shan't've\": \"shall not have\",\n",
    "                           \"she'd\": \"she would\", \"she'd've\": \"she would have\", \"she'll\": \"she will\", \"she'll've\": \"she will have\", \"she's\": \"she is\",\n",
    "                           \"should've\": \"should have\", \"shouldn't\": \"should not\", \"shouldn't've\": \"should not have\", \"so've\": \"so have\",\"so's\": \"so as\",\n",
    "                           \"this's\": \"this is\",\"that'd\": \"that would\", \"that'd've\": \"that would have\", \"that's\": \"that is\", \"there'd\": \"there would\",\n",
    "                           \"there'd've\": \"there would have\", \"there's\": \"there is\", \"here's\": \"here is\",\"they'd\": \"they would\", \"they'd've\": \"they would have\",\n",
    "                           \"they'll\": \"they will\", \"they'll've\": \"they will have\", \"they're\": \"they are\", \"they've\": \"they have\", \"to've\": \"to have\",\n",
    "                           \"wasn't\": \"was not\", \"we'd\": \"we would\", \"we'd've\": \"we would have\", \"we'll\": \"we will\", \"we'll've\": \"we will have\", \"we're\": \"we are\",\n",
    "                           \"we've\": \"we have\", \"weren't\": \"were not\", \"what'll\": \"what will\", \"what'll've\": \"what will have\", \"what're\": \"what are\",\n",
    "                           \"what's\": \"what is\", \"what've\": \"what have\", \"when's\": \"when is\", \"when've\": \"when have\", \"where'd\": \"where did\", \"where's\": \"where is\",\n",
    "                           \"where've\": \"where have\", \"who'll\": \"who will\", \"who'll've\": \"who will have\", \"who's\": \"who is\", \"who've\": \"who have\",\n",
    "                           \"why's\": \"why is\", \"why've\": \"why have\", \"will've\": \"will have\", \"won't\": \"will not\", \"won't've\": \"will not have\",\n",
    "                           \"would've\": \"would have\", \"wouldn't\": \"would not\", \"wouldn't've\": \"would not have\", \"y'all\": \"you all\",\n",
    "                           \"y'all'd\": \"you all would\",\"y'all'd've\": \"you all would have\",\"y'all're\": \"you all are\",\"y'all've\": \"you all have\",\n",
    "                           \"you'd\": \"you would\", \"you'd've\": \"you would have\", \"you'll\": \"you will\", \"you'll've\": \"you will have\",\n",
    "                           \"you're\": \"you are\", \"you've\": \"you have\"}\n",
    "\n",
    "print(\"정규화 사전의 수: \", len(contractions))"
   ]
  },
  {
   "cell_type": "code",
   "execution_count": 26,
   "id": "interesting-coach",
   "metadata": {
    "scrolled": true
   },
   "outputs": [
    {
     "name": "stdout",
     "output_type": "stream",
     "text": [
      "불용어 개수 : 179\n",
      "['i', 'me', 'my', 'myself', 'we', 'our', 'ours', 'ourselves', 'you', \"you're\", \"you've\", \"you'll\", \"you'd\", 'your', 'yours', 'yourself', 'yourselves', 'he', 'him', 'his', 'himself', 'she', \"she's\", 'her', 'hers', 'herself', 'it', \"it's\", 'its', 'itself', 'they', 'them', 'their', 'theirs', 'themselves', 'what', 'which', 'who', 'whom', 'this', 'that', \"that'll\", 'these', 'those', 'am', 'is', 'are', 'was', 'were', 'be', 'been', 'being', 'have', 'has', 'had', 'having', 'do', 'does', 'did', 'doing', 'a', 'an', 'the', 'and', 'but', 'if', 'or', 'because', 'as', 'until', 'while', 'of', 'at', 'by', 'for', 'with', 'about', 'against', 'between', 'into', 'through', 'during', 'before', 'after', 'above', 'below', 'to', 'from', 'up', 'down', 'in', 'out', 'on', 'off', 'over', 'under', 'again', 'further', 'then', 'once', 'here', 'there', 'when', 'where', 'why', 'how', 'all', 'any', 'both', 'each', 'few', 'more', 'most', 'other', 'some', 'such', 'no', 'nor', 'not', 'only', 'own', 'same', 'so', 'than', 'too', 'very', 's', 't', 'can', 'will', 'just', 'don', \"don't\", 'should', \"should've\", 'now', 'd', 'll', 'm', 'o', 're', 've', 'y', 'ain', 'aren', \"aren't\", 'couldn', \"couldn't\", 'didn', \"didn't\", 'doesn', \"doesn't\", 'hadn', \"hadn't\", 'hasn', \"hasn't\", 'haven', \"haven't\", 'isn', \"isn't\", 'ma', 'mightn', \"mightn't\", 'mustn', \"mustn't\", 'needn', \"needn't\", 'shan', \"shan't\", 'shouldn', \"shouldn't\", 'wasn', \"wasn't\", 'weren', \"weren't\", 'won', \"won't\", 'wouldn', \"wouldn't\"]\n"
     ]
    }
   ],
   "source": [
    "print('불용어 개수 :', len(stopwords.words('english') ))\n",
    "print(stopwords.words('english'))"
   ]
  },
  {
   "cell_type": "code",
   "execution_count": 128,
   "id": "remarkable-attribute",
   "metadata": {},
   "outputs": [],
   "source": [
    "# 불용어 제거 전처리 함수\n",
    "def preprocess_sentence(sentence, remove_stopwords=True):\n",
    "    # 텍스트 소문자화\n",
    "    sentence = sentence.lower() \n",
    "    # html 태그 제거\n",
    "    sentence = BeautifulSoup(sentence, \"lxml\").text \n",
    "    # 괄호로 닫힌 문자열 (...) 제거 Ex) my husband (and myself!) for => my husband for\n",
    "    sentence = re.sub(r'\\([^)]*\\)', '', sentence) \n",
    "    # 쌍따옴표 \" 제거\n",
    "    sentence = re.sub('\"','', sentence) \n",
    "    # 약어 정규화\n",
    "    sentence = ' '.join([contractions[t] if t in contractions else t for t in sentence.split(\" \")]) \n",
    "    # 소유격 제거. Ex) roland's -> roland\n",
    "    sentence = re.sub(r\"'s\\b\",\"\", sentence) \n",
    "    # 영어 외 문자(숫자, 특수문자 등) 공백으로 변환\n",
    "    sentence = re.sub(\"[^a-zA-Z]\", \" \", sentence)\n",
    "    # m이 3개 이상이면 2개로 변경. Ex) ummmmmmm yeah -> umm yeah\n",
    "    sentence = re.sub('[m]{2,}', 'mm', sentence) \n",
    "    \n",
    "    # 불용어 제거 (Text)\n",
    "    if remove_stopwords:\n",
    "        tokens = ' '.join(word for word in sentence.split() if not word in stopwords.words('english') if len(word) > 1)\n",
    "        \n",
    "    # 불용어 미제거 (Summary)\n",
    "    else:\n",
    "        tokens = ' '.join(word for word in sentence.split() if len(word) > 1)\n",
    "    return tokens"
   ]
  },
  {
   "cell_type": "code",
   "execution_count": 28,
   "id": "arranged-interaction",
   "metadata": {},
   "outputs": [
    {
     "name": "stdout",
     "output_type": "stream",
     "text": [
      "everything bought great infact ordered twice third ordered wasfor mother father\n",
      "great way to start the day\n"
     ]
    }
   ],
   "source": [
    "## 위의 함수 테스트해보기\n",
    "temp_text = 'Everything I bought was great, infact I ordered twice and the third ordered was<br />for my mother and father.'\n",
    "temp_summary = 'Great way to start (or finish) the day!!!'\n",
    "\n",
    "print(preprocess_sentence(temp_text))\n",
    "print(preprocess_sentence(temp_summary, False))  # False : 불용어를 제거하지 않는다."
   ]
  },
  {
   "cell_type": "markdown",
   "id": "pretty-saturn",
   "metadata": {},
   "source": [
    "불용어 제거 작업. \\\n",
    "**멀티 프로세싱** 으로 전처리 속도를 줄여보기"
   ]
  },
  {
   "cell_type": "code",
   "execution_count": 29,
   "id": "willing-cloud",
   "metadata": {},
   "outputs": [
    {
     "name": "stdout",
     "output_type": "stream",
     "text": [
      "182.65044689178467  seconds\n",
      "['saurav kant alumnus upgrad iiit pg program machine learning artificial intelligence sr systems engineer infosys almost years work experience program upgrad degree career support helped transition data scientist tech mahindra salary hike upgrad online power learning powered lakh careers'\n",
      " 'kunal shah credit card bill payment platform cred gave users chance win free food swiggy one year pranav kaushik delhi techie bagged reward spending cred coins users get one cred coin per rupee bill paid used avail rewards brands like ixigo bookmyshow ubereats cult fit'\n",
      " 'new zealand defeated india wickets fourth odi hamilton thursday win first match five match odi series india lost international match rohit sharma captaincy consecutive victories dating back march match witnessed india getting seventh lowest total odi cricket history'\n",
      " ...\n",
      " 'according reports new version science fiction film matrix development michael jordan reportedly play lead role film screenwriter zak penn talks write script film reports added actor keanu reeves starred original film followed two sequels'\n",
      " 'new music video shows rapper snoop dogg aiming toy gun clown character parodying us president donald trump video also shows tv airing news conference headline ronald klump wants deport doggs airing live clown house video remixed version song lavender'\n",
      " 'madhesi morcha alliance seven political parties withdrawn support pm pushpa kamal dahal led nepal government failed meet seven day ultimatum fulfil demands including endorsement revised constitution amendment bill morcha seats parliament despite withdrawal support immediate threat government']\n",
      "5.845715761184692  seconds\n",
      "['upgrad learner switches to career in ml al with salary hike'\n",
      " 'delhi techie wins free food from swiggy for one year on cred'\n",
      " 'new zealand end rohit sharma led india match winning streak' ...\n",
      " 'the matrix film to get reboot reports'\n",
      " 'snoop dogg aims gun at clown dressed as trump in new video'\n",
      " 'madhesi morcha withdraws support to nepalese government']\n"
     ]
    }
   ],
   "source": [
    "import multiprocessing as mp   \n",
    "from multiprocessing import Pool\n",
    "import numpy as np\n",
    "import time\n",
    "from functools import partial  # map을 할 때 함수에 여러 인자를 넣어줄 수 있도록 한다\n",
    "\n",
    "start = time.time()\n",
    "\n",
    "# num_cores 만큼 쪼개진 데이터를 전처리하여 반환한다.\n",
    "def appendTexts(sentences, remove_stopwords):\n",
    "  texts = []\n",
    "  for s in sentences:\n",
    "    texts += preprocess_sentence(s, remove_stopwords),\n",
    "  return texts\n",
    "\n",
    "def preprocess_data(data, remove_stopwords=True):\n",
    "  start_time = time.time()\n",
    "  # 컴퓨터의 코어 수를 구하기\n",
    "  num_cores = mp.cpu_count()  \n",
    "\n",
    "  text_data_split = np.array_split(data, num_cores)  # 코어 수만큼 데이터를 배분하여 병렬적으로 처리할 수 있게 합니다\n",
    "  pool = Pool(num_cores)\n",
    "\n",
    "  processed_data = np.concatenate(pool.map(partial(appendTexts, remove_stopwords=remove_stopwords), text_data_split))  # 각자 작업한 데이터를 하나로 합쳐줍니다\n",
    "  pool.close()\n",
    "  pool.join()\n",
    "  print(time.time() - start_time, \" seconds\")\n",
    "  return processed_data\n",
    "\n",
    "clean_text = preprocess_data(data['text'])  # 클라우드 기준으로 3~4분 정도 소요 됩니다\n",
    "print(clean_text)\n",
    "\n",
    "clean_headlines = preprocess_data(data['headlines'], remove_stopwords=False) # 클라우드 기준 1분정도 소요됩니다.\n",
    "print(clean_headlines)"
   ]
  },
  {
   "cell_type": "code",
   "execution_count": 30,
   "id": "scientific-twins",
   "metadata": {},
   "outputs": [],
   "source": [
    "data['text'] = clean_text\n",
    "data['headlines'] = clean_headlines\n",
    "\n",
    "## 빈 값을 Null 값으로 변환\n",
    "data.replace('', np.nan, inplace=True)"
   ]
  },
  {
   "cell_type": "code",
   "execution_count": 31,
   "id": "chemical-disco",
   "metadata": {},
   "outputs": [
    {
     "data": {
      "text/plain": [
       "headlines    0\n",
       "text         0\n",
       "dtype: int64"
      ]
     },
     "execution_count": 31,
     "metadata": {},
     "output_type": "execute_result"
    }
   ],
   "source": [
    "## null값 확인하기\n",
    "data.isnull().sum()"
   ]
  },
  {
   "cell_type": "markdown",
   "id": "alleged-sampling",
   "metadata": {},
   "source": [
    "### 훈련데이터와 테스트데이터 나누기"
   ]
  },
  {
   "cell_type": "code",
   "execution_count": 33,
   "id": "monetary-korea",
   "metadata": {},
   "outputs": [
    {
     "name": "stdout",
     "output_type": "stream",
     "text": [
      "텍스트의 최소 길이 : 1\n",
      "텍스트의 최대 길이 : 60\n",
      "텍스트의 평균 길이 : 35.09968483123221\n",
      "요약의 최소 길이 : 1\n",
      "요약의 최대 길이 : 16\n",
      "요약의 평균 길이 : 9.299532330215534\n"
     ]
    },
    {
     "data": {
      "image/png": "[encoded data removed]",
      "text/plain": [
       "<Figure size 432x288 with 2 Axes>"
      ]
     },
     "metadata": {
      "needs_background": "light"
     },
     "output_type": "display_data"
    },
    {
     "data": {
      "image/png": "[encoded data removed]",
      "text/plain": [
       "<Figure size 432x288 with 1 Axes>"
      ]
     },
     "metadata": {
      "needs_background": "light"
     },
     "output_type": "display_data"
    },
    {
     "data": {
      "image/png": "[encoded data removed]",
      "text/plain": [
       "<Figure size 432x288 with 1 Axes>"
      ]
     },
     "metadata": {
      "needs_background": "light"
     },
     "output_type": "display_data"
    }
   ],
   "source": [
    "## 길이 분포 출력\n",
    "import matplotlib.pyplot as plt\n",
    "\n",
    "text_len = [len(s.split()) for s in data['text']]\n",
    "headlines_len = [len(s.split()) for s in data['headlines']]\n",
    "\n",
    "print('텍스트의 최소 길이 : {}'.format(np.min(text_len)))\n",
    "print('텍스트의 최대 길이 : {}'.format(np.max(text_len)))\n",
    "print('텍스트의 평균 길이 : {}'.format(np.mean(text_len)))\n",
    "print('요약의 최소 길이 : {}'.format(np.min(headlines_len)))\n",
    "print('요약의 최대 길이 : {}'.format(np.max(headlines_len)))\n",
    "print('요약의 평균 길이 : {}'.format(np.mean(headlines_len)))\n",
    "\n",
    "plt.subplot(1,2,1)\n",
    "plt.boxplot(headlines_len)\n",
    "plt.title('headlines')\n",
    "plt.subplot(1,2,2)\n",
    "plt.boxplot(text_len)\n",
    "plt.title('text')\n",
    "plt.tight_layout()\n",
    "plt.show()\n",
    "\n",
    "plt.title('headlines')\n",
    "plt.hist(headlines_len, bins = 40)\n",
    "plt.xlabel('length of samples')\n",
    "plt.ylabel('number of samples')\n",
    "plt.show()\n",
    "\n",
    "plt.title('Text')\n",
    "plt.hist(text_len, bins = 40)\n",
    "plt.xlabel('length of samples')\n",
    "plt.ylabel('number of samples')\n",
    "plt.show()"
   ]
  },
  {
   "cell_type": "markdown",
   "id": "median-conditioning",
   "metadata": {},
   "source": [
    "`headlines`은 가장 많은 샘플이 8\\~10 사이인 것으로 확인되며, \\\n",
    "`text`은 가장 많은 샘플이 30\\~40 사이인 것을 확인할 수 있다. \\\n",
    "그러므로 text_max_len와 headlines_max_len를 사이 값 중 임의의 숫자로 정해준다."
   ]
  },
  {
   "cell_type": "code",
   "execution_count": 34,
   "id": "saving-prince",
   "metadata": {},
   "outputs": [],
   "source": [
    "text_max_len = 35\n",
    "headlines_max_len = 9"
   ]
  },
  {
   "cell_type": "code",
   "execution_count": 35,
   "id": "educational-chorus",
   "metadata": {},
   "outputs": [],
   "source": [
    "## 샘플중 길이의 비율을 알아보는 함수\n",
    "def below_threshold_len(max_len, nested_list):\n",
    "  cnt = 0\n",
    "  for s in nested_list:\n",
    "    if(len(s.split()) <= max_len):\n",
    "        cnt = cnt + 1\n",
    "  print('전체 샘플 중 길이가 %s 이하인 샘플의 비율: %s'%(max_len, (cnt / len(nested_list))))"
   ]
  },
  {
   "cell_type": "code",
   "execution_count": 36,
   "id": "mounted-yield",
   "metadata": {},
   "outputs": [
    {
     "name": "stdout",
     "output_type": "stream",
     "text": [
      "전체 샘플 중 길이가 35 이하인 샘플의 비율: 0.5412464416429443\n",
      "전체 샘플 중 길이가 9 이하인 샘플의 비율: 0.5666022773485156\n"
     ]
    }
   ],
   "source": [
    "below_threshold_len(text_max_len, data['text'])\n",
    "below_threshold_len(headlines_max_len,  data['headlines'])"
   ]
  },
  {
   "cell_type": "code",
   "execution_count": 37,
   "id": "turkish-calcium",
   "metadata": {},
   "outputs": [
    {
     "name": "stdout",
     "output_type": "stream",
     "text": [
      "전체 샘플수 : 29623\n"
     ]
    }
   ],
   "source": [
    "## 샘플들의 길이 중에서 max length 이하인 데이터들의 갯수를 알아보기\n",
    "data = data[data['text'].apply(lambda x: len(x.split()) <= text_max_len)]\n",
    "data = data[data['headlines'].apply(lambda x: len(x.split()) <= headlines_max_len)]\n",
    "print('전체 샘플수 :', (len(data)))"
   ]
  },
  {
   "cell_type": "markdown",
   "id": "elementary-spotlight",
   "metadata": {},
   "source": [
    "#### 시작 토큰과 종료 토큰 추가하기\n",
    "- 시작 토큰 : sostoken\n",
    "- 종료 토큰 : eostoken"
   ]
  },
  {
   "cell_type": "code",
   "execution_count": 39,
   "id": "rural-accident",
   "metadata": {},
   "outputs": [
    {
     "data": {
      "text/html": [
       "<div>\n",
       "<style scoped>\n",
       "    .dataframe tbody tr th:only-of-type {\n",
       "        vertical-align: middle;\n",
       "    }\n",
       "\n",
       "    .dataframe tbody tr th {\n",
       "        vertical-align: top;\n",
       "    }\n",
       "\n",
       "    .dataframe thead th {\n",
       "        text-align: right;\n",
       "    }\n",
       "</style>\n",
       "<table border=\"1\" class=\"dataframe\">\n",
       "  <thead>\n",
       "    <tr style=\"text-align: right;\">\n",
       "      <th></th>\n",
       "      <th>headlines</th>\n",
       "      <th>text</th>\n",
       "      <th>decoder_input</th>\n",
       "      <th>decoder_target</th>\n",
       "    </tr>\n",
       "  </thead>\n",
       "  <tbody>\n",
       "    <tr>\n",
       "      <th>3</th>\n",
       "      <td>aegon life iterm insurance plan helps customer...</td>\n",
       "      <td>aegon life iterm insurance plan customers enjo...</td>\n",
       "      <td>sostoken aegon life iterm insurance plan helps...</td>\n",
       "      <td>aegon life iterm insurance plan helps customer...</td>\n",
       "    </tr>\n",
       "    <tr>\n",
       "      <th>10</th>\n",
       "      <td>up cousins fed human excreta for friendship wi...</td>\n",
       "      <td>two minor cousins uttar pradesh gorakhpur alle...</td>\n",
       "      <td>sostoken up cousins fed human excreta for frie...</td>\n",
       "      <td>up cousins fed human excreta for friendship wi...</td>\n",
       "    </tr>\n",
       "    <tr>\n",
       "      <th>18</th>\n",
       "      <td>how long can tolerate congress leaders potshot...</td>\n",
       "      <td>days threatened step post congress mlas contin...</td>\n",
       "      <td>sostoken how long can tolerate congress leader...</td>\n",
       "      <td>how long can tolerate congress leaders potshot...</td>\n",
       "    </tr>\n",
       "    <tr>\n",
       "      <th>20</th>\n",
       "      <td>think the opposition even dreams about me pm modi</td>\n",
       "      <td>claiming dearth ideas among opposition parties...</td>\n",
       "      <td>sostoken think the opposition even dreams abou...</td>\n",
       "      <td>think the opposition even dreams about me pm m...</td>\n",
       "    </tr>\n",
       "    <tr>\n",
       "      <th>22</th>\n",
       "      <td>killed injured in saudi arabia floods</td>\n",
       "      <td>least people killed others injured saudi arabi...</td>\n",
       "      <td>sostoken killed injured in saudi arabia floods</td>\n",
       "      <td>killed injured in saudi arabia floods eostoken</td>\n",
       "    </tr>\n",
       "  </tbody>\n",
       "</table>\n",
       "</div>"
      ],
      "text/plain": [
       "                                            headlines  \\\n",
       "3   aegon life iterm insurance plan helps customer...   \n",
       "10  up cousins fed human excreta for friendship wi...   \n",
       "18  how long can tolerate congress leaders potshot...   \n",
       "20  think the opposition even dreams about me pm modi   \n",
       "22              killed injured in saudi arabia floods   \n",
       "\n",
       "                                                 text  \\\n",
       "3   aegon life iterm insurance plan customers enjo...   \n",
       "10  two minor cousins uttar pradesh gorakhpur alle...   \n",
       "18  days threatened step post congress mlas contin...   \n",
       "20  claiming dearth ideas among opposition parties...   \n",
       "22  least people killed others injured saudi arabi...   \n",
       "\n",
       "                                        decoder_input  \\\n",
       "3   sostoken aegon life iterm insurance plan helps...   \n",
       "10  sostoken up cousins fed human excreta for frie...   \n",
       "18  sostoken how long can tolerate congress leader...   \n",
       "20  sostoken think the opposition even dreams abou...   \n",
       "22     sostoken killed injured in saudi arabia floods   \n",
       "\n",
       "                                       decoder_target  \n",
       "3   aegon life iterm insurance plan helps customer...  \n",
       "10  up cousins fed human excreta for friendship wi...  \n",
       "18  how long can tolerate congress leaders potshot...  \n",
       "20  think the opposition even dreams about me pm m...  \n",
       "22     killed injured in saudi arabia floods eostoken  "
      ]
     },
     "execution_count": 39,
     "metadata": {},
     "output_type": "execute_result"
    }
   ],
   "source": [
    "## headlins 데이터에는 시작 토큰과 종료 토큰을 추가한다.\n",
    "data['decoder_input'] = data['headlines'].apply(lambda x : 'sostoken '+ x)\n",
    "data['decoder_target'] = data['headlines'].apply(lambda x : x + ' eostoken')\n",
    "data.head()"
   ]
  },
  {
   "cell_type": "code",
   "execution_count": 40,
   "id": "valid-reducing",
   "metadata": {},
   "outputs": [],
   "source": [
    "encoder_input = np.array(data['text']) # 인코더의 입력\n",
    "decoder_input = np.array(data['decoder_input']) # 디코더의 입력\n",
    "decoder_target = np.array(data['decoder_target']) # 디코더의 레이블"
   ]
  },
  {
   "cell_type": "code",
   "execution_count": 41,
   "id": "rotary-moldova",
   "metadata": {},
   "outputs": [
    {
     "name": "stdout",
     "output_type": "stream",
     "text": [
      "[ 1406  1132 14816 ... 28778 27836 11419]\n"
     ]
    }
   ],
   "source": [
    "indices = np.arange(encoder_input.shape[0])\n",
    "np.random.shuffle(indices)\n",
    "print(indices)"
   ]
  },
  {
   "cell_type": "code",
   "execution_count": 42,
   "id": "sapphire-coordinator",
   "metadata": {},
   "outputs": [],
   "source": [
    "encoder_input = encoder_input[indices]\n",
    "decoder_input = decoder_input[indices]\n",
    "decoder_target = decoder_target[indices]"
   ]
  },
  {
   "cell_type": "code",
   "execution_count": 43,
   "id": "disciplinary-commonwealth",
   "metadata": {},
   "outputs": [
    {
     "name": "stdout",
     "output_type": "stream",
     "text": [
      "테스트 데이터의 수 : 5924\n"
     ]
    }
   ],
   "source": [
    "## 테스트 크기 설정\n",
    "n_of_val = int(len(encoder_input)*0.2)\n",
    "print('테스트 데이터의 수 :', n_of_val)"
   ]
  },
  {
   "cell_type": "code",
   "execution_count": 44,
   "id": "general-membership",
   "metadata": {},
   "outputs": [
    {
     "name": "stdout",
     "output_type": "stream",
     "text": [
      "훈련 데이터의 개수 : 23699\n",
      "훈련 레이블의 개수 : 23699\n",
      "테스트 데이터의 개수 : 5924\n",
      "테스트 레이블의 개수 : 5924\n"
     ]
    }
   ],
   "source": [
    "## train과 test를 split해주자.\n",
    "encoder_input_train = encoder_input[:-n_of_val]\n",
    "decoder_input_train = decoder_input[:-n_of_val]\n",
    "decoder_target_train = decoder_target[:-n_of_val]\n",
    "\n",
    "encoder_input_test = encoder_input[-n_of_val:]\n",
    "decoder_input_test = decoder_input[-n_of_val:]\n",
    "decoder_target_test = decoder_target[-n_of_val:]\n",
    "\n",
    "print('훈련 데이터의 개수 :', len(encoder_input_train))\n",
    "print('훈련 레이블의 개수 :', len(decoder_input_train))\n",
    "print('테스트 데이터의 개수 :', len(encoder_input_test))\n",
    "print('테스트 레이블의 개수 :', len(decoder_input_test))"
   ]
  },
  {
   "cell_type": "markdown",
   "id": "stopped-donor",
   "metadata": {},
   "source": [
    "### 정수 인코딩"
   ]
  },
  {
   "cell_type": "markdown",
   "id": "extensive-stability",
   "metadata": {},
   "source": [
    "#### 단어 집합(vocabulary) 만들기 및 정수 인코딩"
   ]
  },
  {
   "cell_type": "code",
   "execution_count": 45,
   "id": "shaped-commitment",
   "metadata": {},
   "outputs": [],
   "source": [
    "src_tokenizer = Tokenizer() # 토크나이저 정의\n",
    "src_tokenizer.fit_on_texts(encoder_input_train) # 입력된 데이터로부터 단어 집합 생성"
   ]
  },
  {
   "cell_type": "code",
   "execution_count": 46,
   "id": "fewer-fireplace",
   "metadata": {},
   "outputs": [
    {
     "name": "stdout",
     "output_type": "stream",
     "text": [
      "단어 집합(vocabulary)의 크기 : 40124\n",
      "등장 빈도가 6번 이하인 희귀 단어의 수: 28752\n",
      "단어 집합에서 희귀 단어를 제외시킬 경우의 단어 집합의 크기 11372\n",
      "단어 집합에서 희귀 단어의 비율: 71.65786063204067\n",
      "전체 등장 빈도에서 희귀 단어 등장 빈도 비율: 7.7092143479145046\n"
     ]
    }
   ],
   "source": [
    "threshold = 7\n",
    "total_cnt = len(src_tokenizer.word_index) # 단어의 수\n",
    "rare_cnt = 0 # 등장 빈도수가 threshold보다 작은 단어의 개수를 카운트\n",
    "total_freq = 0 # 훈련 데이터의 전체 단어 빈도수 총 합\n",
    "rare_freq = 0 # 등장 빈도수가 threshold보다 작은 단어의 등장 빈도수의 총 합\n",
    "\n",
    "# 단어와 빈도수의 쌍(pair)을 key와 value로 받는다.\n",
    "for key, value in src_tokenizer.word_counts.items():\n",
    "    total_freq = total_freq + value\n",
    "\n",
    "    # 단어의 등장 빈도수가 threshold보다 작으면\n",
    "    if(value < threshold):\n",
    "        rare_cnt = rare_cnt + 1\n",
    "        rare_freq = rare_freq + value\n",
    "\n",
    "print('단어 집합(vocabulary)의 크기 :', total_cnt)\n",
    "print('등장 빈도가 %s번 이하인 희귀 단어의 수: %s'%(threshold - 1, rare_cnt))\n",
    "print('단어 집합에서 희귀 단어를 제외시킬 경우의 단어 집합의 크기 %s'%(total_cnt - rare_cnt))\n",
    "print(\"단어 집합에서 희귀 단어의 비율:\", (rare_cnt / total_cnt)*100)\n",
    "print(\"전체 등장 빈도에서 희귀 단어 등장 빈도 비율:\", (rare_freq / total_freq)*100)"
   ]
  },
  {
   "cell_type": "code",
   "execution_count": 47,
   "id": "distant-washer",
   "metadata": {},
   "outputs": [],
   "source": [
    "src_vocab = 8000\n",
    "src_tokenizer = Tokenizer(num_words=src_vocab) # 단어 집합의 크기를 8,000으로 제한\n",
    "src_tokenizer.fit_on_texts(encoder_input_train) # 단어 집합 재생성."
   ]
  },
  {
   "cell_type": "code",
   "execution_count": 48,
   "id": "fixed-shower",
   "metadata": {},
   "outputs": [
    {
     "name": "stdout",
     "output_type": "stream",
     "text": [
      "[[4, 3150, 113, 34, 266, 515, 534, 50, 239, 881, 59, 1388, 72, 394, 50, 1, 42, 746, 730, 486, 1219, 2861, 1544, 275, 2629, 12, 4247, 19, 2, 2861, 414, 3], [168, 1105, 46, 685, 5894, 12, 26, 4, 891, 429, 3320, 385, 551, 964, 385, 551, 3517, 130, 964, 130, 483, 11, 11, 1106, 2721, 629, 1732, 629], [120, 26, 8, 94, 37, 7263, 3761, 417, 1625, 4477, 261, 120, 1140, 186, 3676, 1031, 2040, 203, 9, 348, 3197, 1, 94, 120, 667, 1168, 7654, 1733, 1602, 473, 1733, 228]]\n"
     ]
    }
   ],
   "source": [
    "## 텍스트 시퀀스를 정수 시퀀스로 변환\n",
    "encoder_input_train = src_tokenizer.texts_to_sequences(encoder_input_train) \n",
    "encoder_input_test = src_tokenizer.texts_to_sequences(encoder_input_test)\n",
    "\n",
    "## 잘 진행되었는지 샘플 출력\n",
    "print(encoder_input_train[:3])"
   ]
  },
  {
   "cell_type": "code",
   "execution_count": 49,
   "id": "eastern-lawrence",
   "metadata": {},
   "outputs": [],
   "source": [
    "tar_tokenizer = Tokenizer()\n",
    "tar_tokenizer.fit_on_texts(decoder_input_train)"
   ]
  },
  {
   "cell_type": "code",
   "execution_count": 50,
   "id": "thick-testament",
   "metadata": {},
   "outputs": [
    {
     "name": "stdout",
     "output_type": "stream",
     "text": [
      "단어 집합(vocabulary)의 크기 : 18912\n",
      "등장 빈도가 5번 이하인 희귀 단어의 수: 13855\n",
      "단어 집합에서 희귀 단어를 제외시킬 경우의 단어 집합의 크기 5057\n",
      "단어 집합에서 희귀 단어의 비율: 73.26036379018612\n",
      "전체 등장 빈도에서 희귀 단어 등장 빈도 비율: 11.80171306404245\n"
     ]
    }
   ],
   "source": [
    "threshold = 6\n",
    "total_cnt = len(tar_tokenizer.word_index) # 단어의 수\n",
    "rare_cnt = 0 # 등장 빈도수가 threshold보다 작은 단어의 개수를 카운트\n",
    "total_freq = 0 # 훈련 데이터의 전체 단어 빈도수 총 합\n",
    "rare_freq = 0 # 등장 빈도수가 threshold보다 작은 단어의 등장 빈도수의 총 합\n",
    "\n",
    "## 단어와 빈도수의 쌍(pair)을 key와 value로 받는다.\n",
    "for key, value in tar_tokenizer.word_counts.items():\n",
    "    total_freq = total_freq + value\n",
    "\n",
    "    ## 단어의 등장 빈도수가 threshold보다 작으면\n",
    "    if(value < threshold):\n",
    "        rare_cnt = rare_cnt + 1\n",
    "        rare_freq = rare_freq + value\n",
    "\n",
    "print('단어 집합(vocabulary)의 크기 :', total_cnt)\n",
    "print('등장 빈도가 %s번 이하인 희귀 단어의 수: %s'%(threshold - 1, rare_cnt))\n",
    "print('단어 집합에서 희귀 단어를 제외시킬 경우의 단어 집합의 크기 %s'%(total_cnt - rare_cnt))\n",
    "print(\"단어 집합에서 희귀 단어의 비율:\", (rare_cnt / total_cnt)*100)\n",
    "print(\"전체 등장 빈도에서 희귀 단어 등장 빈도 비율:\", (rare_freq / total_freq)*100)"
   ]
  },
  {
   "cell_type": "code",
   "execution_count": 51,
   "id": "diagnostic-center",
   "metadata": {},
   "outputs": [
    {
     "name": "stdout",
     "output_type": "stream",
     "text": [
      "input\n",
      "input  [[1, 111, 13, 419, 8, 136, 201, 576], [1, 776, 439, 1328, 12, 498, 777, 522], [1, 60, 1882, 68, 1685, 3, 60, 1388], [1, 98, 926, 120, 123, 4, 1200, 3], [1, 129, 6, 13, 364, 137, 995, 25, 1032, 80]]\n",
      "target\n",
      "decoder  [[111, 13, 419, 8, 136, 201, 576, 2], [776, 439, 1328, 12, 498, 777, 522, 2], [60, 1882, 68, 1685, 3, 60, 1388, 2], [98, 926, 120, 123, 4, 1200, 3, 2], [129, 6, 13, 364, 137, 995, 25, 1032, 80, 2]]\n"
     ]
    }
   ],
   "source": [
    "tar_vocab = 2000\n",
    "tar_tokenizer = Tokenizer(num_words=tar_vocab) \n",
    "tar_tokenizer.fit_on_texts(decoder_input_train)\n",
    "tar_tokenizer.fit_on_texts(decoder_target_train)\n",
    "\n",
    "## 텍스트 시퀀스를 정수 시퀀스로 변환\n",
    "decoder_input_train = tar_tokenizer.texts_to_sequences(decoder_input_train) \n",
    "decoder_target_train = tar_tokenizer.texts_to_sequences(decoder_target_train)\n",
    "decoder_input_test = tar_tokenizer.texts_to_sequences(decoder_input_test)\n",
    "decoder_target_test = tar_tokenizer.texts_to_sequences(decoder_target_test)\n",
    "\n",
    "## 잘 변환되었는지 확인\n",
    "print('input')\n",
    "print('input ',decoder_input_train[:5])\n",
    "print('target')\n",
    "print('decoder ',decoder_target_train[:5])"
   ]
  },
  {
   "cell_type": "code",
   "execution_count": 52,
   "id": "dying-colombia",
   "metadata": {},
   "outputs": [
    {
     "name": "stdout",
     "output_type": "stream",
     "text": [
      "삭제할 훈련 데이터의 개수 : 6\n",
      "삭제할 테스트 데이터의 개수 : 1\n",
      "훈련 데이터의 개수 : 23693\n",
      "훈련 레이블의 개수 : 23693\n",
      "테스트 데이터의 개수 : 5923\n",
      "테스트 레이블의 개수 : 5923\n"
     ]
    },
    {
     "name": "stderr",
     "output_type": "stream",
     "text": [
      "/opt/conda/lib/python3.7/site-packages/numpy/core/_asarray.py:83: VisibleDeprecationWarning: Creating an ndarray from ragged nested sequences (which is a list-or-tuple of lists-or-tuples-or ndarrays with different lengths or shapes) is deprecated. If you meant to do this, you must specify 'dtype=object' when creating the ndarray\n",
      "  return array(a, dtype, copy=False, order=order)\n"
     ]
    }
   ],
   "source": [
    "## 변환하면서 빈칸이 된 데이터가 있을 것이다. 빈칸 데이터는 삭제해주기 위해 데이터를 거른다.\n",
    "drop_train = [index for index, sentence in enumerate(decoder_input_train) if len(sentence) == 1]\n",
    "drop_test = [index for index, sentence in enumerate(decoder_input_test) if len(sentence) == 1]\n",
    "\n",
    "print('삭제할 훈련 데이터의 개수 :', len(drop_train))\n",
    "print('삭제할 테스트 데이터의 개수 :', len(drop_test))\n",
    "\n",
    "## np.delete를 이용해서 데이터 삭제\n",
    "encoder_input_train = np.delete(encoder_input_train, drop_train, axis=0)\n",
    "decoder_input_train = np.delete(decoder_input_train, drop_train, axis=0)\n",
    "decoder_target_train = np.delete(decoder_target_train, drop_train, axis=0)\n",
    "\n",
    "encoder_input_test = np.delete(encoder_input_test, drop_test, axis=0)\n",
    "decoder_input_test = np.delete(decoder_input_test, drop_test, axis=0)\n",
    "decoder_target_test = np.delete(decoder_target_test, drop_test, axis=0)\n",
    "\n",
    "print('훈련 데이터의 개수 :', len(encoder_input_train))\n",
    "print('훈련 레이블의 개수 :', len(decoder_input_train))\n",
    "print('테스트 데이터의 개수 :', len(encoder_input_test))\n",
    "print('테스트 레이블의 개수 :', len(decoder_input_test))"
   ]
  },
  {
   "cell_type": "markdown",
   "id": "wrong-narrow",
   "metadata": {},
   "source": [
    "#### 패딩하기\n",
    "학습할 때 동일한 길이여야지 모델 학습 시 무리없이 되므로, 길이를 맞춰준다. \\\n",
    "padding은 post로 뒤쪽에 넣어준다."
   ]
  },
  {
   "cell_type": "code",
   "execution_count": 54,
   "id": "sunrise-pierce",
   "metadata": {},
   "outputs": [],
   "source": [
    "encoder_input_train = pad_sequences(encoder_input_train, maxlen=text_max_len, padding='post')\n",
    "encoder_input_test = pad_sequences(encoder_input_test, maxlen=text_max_len, padding='post')\n",
    "decoder_input_train = pad_sequences(decoder_input_train, maxlen=headlines_max_len, padding='post')\n",
    "decoder_target_train = pad_sequences(decoder_target_train, maxlen=headlines_max_len, padding='post')\n",
    "decoder_input_test = pad_sequences(decoder_input_test, maxlen=headlines_max_len, padding='post')\n",
    "decoder_target_test = pad_sequences(decoder_target_test, maxlen=headlines_max_len, padding='post')"
   ]
  },
  {
   "cell_type": "markdown",
   "id": "large-booth",
   "metadata": {},
   "source": [
    "## Step 3. 어텐션 메커니즘 사용하기 (추상적 요약)\n",
    "일반적인 seq2seq보다는 **어텐션 메커니즘** 을 사용한 seq2seq를 사용하는 것이 더 나은 성능을 얻을 수 있다"
   ]
  },
  {
   "cell_type": "code",
   "execution_count": 55,
   "id": "reserved-history",
   "metadata": {},
   "outputs": [
    {
     "name": "stdout",
     "output_type": "stream",
     "text": [
      "WARNING:tensorflow:Layer lstm will not use cuDNN kernel since it doesn't meet the cuDNN kernel criteria. It will use generic GPU kernel as fallback when running on GPU\n",
      "WARNING:tensorflow:Layer lstm_1 will not use cuDNN kernel since it doesn't meet the cuDNN kernel criteria. It will use generic GPU kernel as fallback when running on GPU\n",
      "WARNING:tensorflow:Layer lstm_2 will not use cuDNN kernel since it doesn't meet the cuDNN kernel criteria. It will use generic GPU kernel as fallback when running on GPU\n"
     ]
    }
   ],
   "source": [
    "from tensorflow.keras.layers import Input, LSTM, Embedding, Dense, Concatenate\n",
    "from tensorflow.keras.models import Model\n",
    "from tensorflow.keras.callbacks import EarlyStopping, ModelCheckpoint\n",
    "\n",
    "\n",
    "# 인코더 설계 시작\n",
    "embedding_dim = 128\n",
    "hidden_size = 256\n",
    "\n",
    "# 인코더\n",
    "encoder_inputs = Input(shape=(text_max_len,))\n",
    "\n",
    "# 인코더의 임베딩 층\n",
    "enc_emb = Embedding(src_vocab, embedding_dim)(encoder_inputs)\n",
    "\n",
    "# 인코더의 LSTM 1\n",
    "encoder_lstm1 = LSTM(hidden_size, return_sequences=True, return_state=True ,dropout = 0.4, recurrent_dropout = 0.4)\n",
    "encoder_output1, state_h1, state_c1 = encoder_lstm1(enc_emb)\n",
    "\n",
    "# 인코더의 LSTM 2\n",
    "encoder_lstm2 = LSTM(hidden_size, return_sequences=True, return_state=True, dropout=0.4, recurrent_dropout=0.4)\n",
    "encoder_output2, state_h2, state_c2 = encoder_lstm2(encoder_output1)\n",
    "\n",
    "# 인코더의 LSTM 3\n",
    "encoder_lstm3 = LSTM(hidden_size, return_state=True, return_sequences=True, dropout=0.4, recurrent_dropout=0.4)\n",
    "encoder_outputs, state_h, state_c= encoder_lstm3(encoder_output2)"
   ]
  },
  {
   "cell_type": "code",
   "execution_count": 56,
   "id": "normal-consequence",
   "metadata": {},
   "outputs": [
    {
     "name": "stdout",
     "output_type": "stream",
     "text": [
      "WARNING:tensorflow:Layer lstm_3 will not use cuDNN kernel since it doesn't meet the cuDNN kernel criteria. It will use generic GPU kernel as fallback when running on GPU\n"
     ]
    }
   ],
   "source": [
    "# 디코더 설계\n",
    "decoder_inputs = Input(shape=(None,))\n",
    "\n",
    "# 디코더의 임베딩 층\n",
    "dec_emb_layer = Embedding(tar_vocab, embedding_dim)\n",
    "dec_emb = dec_emb_layer(decoder_inputs)\n",
    "\n",
    "# 디코더의 LSTM\n",
    "decoder_lstm = LSTM(hidden_size, return_sequences=True, return_state=True, dropout=0.4, recurrent_dropout=0.2)\n",
    "decoder_outputs, _, _ = decoder_lstm(dec_emb, initial_state=[state_h, state_c])"
   ]
  },
  {
   "cell_type": "code",
   "execution_count": 57,
   "id": "medieval-resident",
   "metadata": {},
   "outputs": [
    {
     "name": "stdout",
     "output_type": "stream",
     "text": [
      "Model: \"model\"\n",
      "__________________________________________________________________________________________________\n",
      "Layer (type)                    Output Shape         Param #     Connected to                     \n",
      "==================================================================================================\n",
      "input_1 (InputLayer)            [(None, 35)]         0                                            \n",
      "__________________________________________________________________________________________________\n",
      "embedding (Embedding)           (None, 35, 128)      1024000     input_1[0][0]                    \n",
      "__________________________________________________________________________________________________\n",
      "lstm (LSTM)                     [(None, 35, 256), (N 394240      embedding[0][0]                  \n",
      "__________________________________________________________________________________________________\n",
      "input_2 (InputLayer)            [(None, None)]       0                                            \n",
      "__________________________________________________________________________________________________\n",
      "lstm_1 (LSTM)                   [(None, 35, 256), (N 525312      lstm[0][0]                       \n",
      "__________________________________________________________________________________________________\n",
      "embedding_1 (Embedding)         (None, None, 128)    256000      input_2[0][0]                    \n",
      "__________________________________________________________________________________________________\n",
      "lstm_2 (LSTM)                   [(None, 35, 256), (N 525312      lstm_1[0][0]                     \n",
      "__________________________________________________________________________________________________\n",
      "lstm_3 (LSTM)                   [(None, None, 256),  394240      embedding_1[0][0]                \n",
      "                                                                 lstm_2[0][1]                     \n",
      "                                                                 lstm_2[0][2]                     \n",
      "__________________________________________________________________________________________________\n",
      "dense (Dense)                   (None, None, 2000)   514000      lstm_3[0][0]                     \n",
      "==================================================================================================\n",
      "Total params: 3,633,104\n",
      "Trainable params: 3,633,104\n",
      "Non-trainable params: 0\n",
      "__________________________________________________________________________________________________\n"
     ]
    }
   ],
   "source": [
    "# 디코더의 출력층\n",
    "decoder_softmax_layer = Dense(tar_vocab, activation='softmax')\n",
    "decoder_softmax_outputs = decoder_softmax_layer(decoder_outputs) \n",
    "\n",
    "# 모델 정의\n",
    "model = Model([encoder_inputs, decoder_inputs], decoder_softmax_outputs)\n",
    "model.summary()"
   ]
  },
  {
   "cell_type": "markdown",
   "id": "quarterly-float",
   "metadata": {},
   "source": [
    "attention layer를 사용하여 모델을 설계해주기 위해 github에 있는 파일을 불러온다."
   ]
  },
  {
   "cell_type": "code",
   "execution_count": 58,
   "id": "worldwide-satisfaction",
   "metadata": {},
   "outputs": [],
   "source": [
    "urllib.request.urlretrieve(\"https://raw.githubusercontent.com/thushv89/attention_keras/master/src/layers/attention.py\", filename=\"attention.py\")\n",
    "from attention import AttentionLayer"
   ]
  },
  {
   "cell_type": "code",
   "execution_count": 59,
   "id": "demonstrated-smile",
   "metadata": {},
   "outputs": [
    {
     "name": "stdout",
     "output_type": "stream",
     "text": [
      "Model: \"model_1\"\n",
      "__________________________________________________________________________________________________\n",
      "Layer (type)                    Output Shape         Param #     Connected to                     \n",
      "==================================================================================================\n",
      "input_1 (InputLayer)            [(None, 35)]         0                                            \n",
      "__________________________________________________________________________________________________\n",
      "embedding (Embedding)           (None, 35, 128)      1024000     input_1[0][0]                    \n",
      "__________________________________________________________________________________________________\n",
      "lstm (LSTM)                     [(None, 35, 256), (N 394240      embedding[0][0]                  \n",
      "__________________________________________________________________________________________________\n",
      "input_2 (InputLayer)            [(None, None)]       0                                            \n",
      "__________________________________________________________________________________________________\n",
      "lstm_1 (LSTM)                   [(None, 35, 256), (N 525312      lstm[0][0]                       \n",
      "__________________________________________________________________________________________________\n",
      "embedding_1 (Embedding)         (None, None, 128)    256000      input_2[0][0]                    \n",
      "__________________________________________________________________________________________________\n",
      "lstm_2 (LSTM)                   [(None, 35, 256), (N 525312      lstm_1[0][0]                     \n",
      "__________________________________________________________________________________________________\n",
      "lstm_3 (LSTM)                   [(None, None, 256),  394240      embedding_1[0][0]                \n",
      "                                                                 lstm_2[0][1]                     \n",
      "                                                                 lstm_2[0][2]                     \n",
      "__________________________________________________________________________________________________\n",
      "attention_layer (AttentionLayer ((None, None, 256),  131328      lstm_2[0][0]                     \n",
      "                                                                 lstm_3[0][0]                     \n",
      "__________________________________________________________________________________________________\n",
      "concat_layer (Concatenate)      (None, None, 512)    0           lstm_3[0][0]                     \n",
      "                                                                 attention_layer[0][0]            \n",
      "__________________________________________________________________________________________________\n",
      "dense_1 (Dense)                 (None, None, 2000)   1026000     concat_layer[0][0]               \n",
      "==================================================================================================\n",
      "Total params: 4,276,432\n",
      "Trainable params: 4,276,432\n",
      "Non-trainable params: 0\n",
      "__________________________________________________________________________________________________\n"
     ]
    }
   ],
   "source": [
    "# 어텐션 층(어텐션 함수)\n",
    "attn_layer = AttentionLayer(name='attention_layer')\n",
    "# 인코더와 디코더의 모든 time step의 hidden state를 어텐션 층에 전달하고 결과를 리턴\n",
    "attn_out, attn_states = attn_layer([encoder_outputs, decoder_outputs])\n",
    "\n",
    "# 어텐션의 결과와 디코더의 hidden state들을 연결\n",
    "decoder_concat_input = Concatenate(axis=-1, name='concat_layer')([decoder_outputs, attn_out])\n",
    "\n",
    "# 디코더의 출력층\n",
    "decoder_softmax_layer = Dense(tar_vocab, activation='softmax')\n",
    "decoder_softmax_outputs = decoder_softmax_layer(decoder_concat_input)\n",
    "\n",
    "# 모델 정의\n",
    "model = Model([encoder_inputs, decoder_inputs], decoder_softmax_outputs)\n",
    "model.summary()"
   ]
  },
  {
   "cell_type": "markdown",
   "id": "adjacent-president",
   "metadata": {},
   "source": [
    "## 모델 훈련하기"
   ]
  },
  {
   "cell_type": "code",
   "execution_count": 60,
   "id": "legitimate-roman",
   "metadata": {},
   "outputs": [
    {
     "name": "stdout",
     "output_type": "stream",
     "text": [
      "Epoch 1/50\n",
      "93/93 [==============================] - 66s 599ms/step - loss: 5.2620 - val_loss: 4.4888\n",
      "Epoch 2/50\n",
      "93/93 [==============================] - 54s 579ms/step - loss: 4.4970 - val_loss: 4.2800\n",
      "Epoch 3/50\n",
      "93/93 [==============================] - 55s 588ms/step - loss: 4.2848 - val_loss: 4.1922\n",
      "Epoch 4/50\n",
      "93/93 [==============================] - 55s 587ms/step - loss: 4.1644 - val_loss: 4.0836\n",
      "Epoch 5/50\n",
      "93/93 [==============================] - 56s 608ms/step - loss: 4.0555 - val_loss: 4.0100\n",
      "Epoch 6/50\n",
      "93/93 [==============================] - 55s 592ms/step - loss: 3.9340 - val_loss: 3.8962\n",
      "Epoch 7/50\n",
      "93/93 [==============================] - 55s 595ms/step - loss: 3.7871 - val_loss: 3.7770\n",
      "Epoch 8/50\n",
      "93/93 [==============================] - 55s 589ms/step - loss: 3.6608 - val_loss: 3.6925\n",
      "Epoch 9/50\n",
      "93/93 [==============================] - 56s 598ms/step - loss: 3.5393 - val_loss: 3.6185\n",
      "Epoch 10/50\n",
      "93/93 [==============================] - 54s 584ms/step - loss: 3.4230 - val_loss: 3.5347\n",
      "Epoch 11/50\n",
      "93/93 [==============================] - 55s 588ms/step - loss: 3.3129 - val_loss: 3.5031\n",
      "Epoch 12/50\n",
      "93/93 [==============================] - 54s 585ms/step - loss: 3.2187 - val_loss: 3.4554\n",
      "Epoch 13/50\n",
      "93/93 [==============================] - 57s 608ms/step - loss: 3.1412 - val_loss: 3.4272\n",
      "Epoch 14/50\n",
      "93/93 [==============================] - 55s 594ms/step - loss: 3.0660 - val_loss: 3.4001\n",
      "Epoch 15/50\n",
      "93/93 [==============================] - 55s 591ms/step - loss: 2.9968 - val_loss: 3.3895\n",
      "Epoch 16/50\n",
      "93/93 [==============================] - 55s 593ms/step - loss: 2.9266 - val_loss: 3.3682\n",
      "Epoch 17/50\n",
      "93/93 [==============================] - 55s 587ms/step - loss: 2.8645 - val_loss: 3.3589\n",
      "Epoch 18/50\n",
      "93/93 [==============================] - 55s 588ms/step - loss: 2.7952 - val_loss: 3.3583\n",
      "Epoch 19/50\n",
      "93/93 [==============================] - 55s 588ms/step - loss: 2.7464 - val_loss: 3.3375\n",
      "Epoch 20/50\n",
      "93/93 [==============================] - 55s 593ms/step - loss: 2.6955 - val_loss: 3.3321\n",
      "Epoch 21/50\n",
      "93/93 [==============================] - 55s 591ms/step - loss: 2.6405 - val_loss: 3.3292\n",
      "Epoch 22/50\n",
      "93/93 [==============================] - 56s 597ms/step - loss: 2.5818 - val_loss: 3.3284\n",
      "Epoch 23/50\n",
      "93/93 [==============================] - 55s 595ms/step - loss: 2.5311 - val_loss: 3.3301\n",
      "Epoch 24/50\n",
      "93/93 [==============================] - 55s 594ms/step - loss: 2.4786 - val_loss: 3.3293\n",
      "Epoch 00024: early stopping\n"
     ]
    }
   ],
   "source": [
    "model.compile(optimizer='rmsprop', loss='sparse_categorical_crossentropy')\n",
    "es = EarlyStopping(monitor='val_loss', patience=2, verbose=1)\n",
    "history = model.fit(x=[encoder_input_train, decoder_input_train], y=decoder_target_train, \\\n",
    "          validation_data=([encoder_input_test, decoder_input_test], decoder_target_test), \\\n",
    "          batch_size=256, callbacks=[es], epochs=50)"
   ]
  },
  {
   "cell_type": "code",
   "execution_count": 61,
   "id": "extra-negative",
   "metadata": {},
   "outputs": [
    {
     "data": {
      "image/png": "[encoded data removed]",
      "text/plain": [
       "<Figure size 432x288 with 1 Axes>"
      ]
     },
     "metadata": {
      "needs_background": "light"
     },
     "output_type": "display_data"
    }
   ],
   "source": [
    "plt.plot(history.history['loss'], label='train')\n",
    "plt.plot(history.history['val_loss'], label='test')\n",
    "plt.legend()\n",
    "plt.show()"
   ]
  },
  {
   "cell_type": "markdown",
   "id": "described-basin",
   "metadata": {},
   "source": [
    "train데이터에서의 loss는 빠르게 감소하는 것을 볼 수 있지만, \\\n",
    "test 데이터에서의 loss의 감소는 다소 둔화된 모습과, 15epoch 정도에서부턴 더이상 감소되지 않는 것을 볼 수 있다."
   ]
  },
  {
   "cell_type": "markdown",
   "id": "wooden-output",
   "metadata": {},
   "source": [
    "## 인퍼런스 모델 구현하기"
   ]
  },
  {
   "cell_type": "code",
   "execution_count": 62,
   "id": "overall-mortgage",
   "metadata": {},
   "outputs": [],
   "source": [
    "src_index_to_word = src_tokenizer.index_word # 원문 단어 집합에서 정수 -> 단어를 얻음\n",
    "tar_word_to_index = tar_tokenizer.word_index # 요약 단어 집합에서 단어 -> 정수를 얻음\n",
    "tar_index_to_word = tar_tokenizer.index_word # 요약 단어 집합에서 정수 -> 단어를 얻음"
   ]
  },
  {
   "cell_type": "code",
   "execution_count": 64,
   "id": "smart-algebra",
   "metadata": {},
   "outputs": [],
   "source": [
    "# 인코더 설계\n",
    "encoder_model = Model(inputs=encoder_inputs, outputs=[encoder_outputs, state_h, state_c])\n",
    "\n",
    "# 이전 시점의 상태들을 저장하는 텐서\n",
    "decoder_state_input_h = Input(shape=(hidden_size,))\n",
    "decoder_state_input_c = Input(shape=(hidden_size,))\n",
    "\n",
    "dec_emb2 = dec_emb_layer(decoder_inputs)\n",
    "\n",
    "# 문장의 다음 단어를 예측하기 위해서 초기 상태(initial_state)를 이전 시점의 상태로 사용. 이는 뒤의 함수 decode_sequence()에 구현\n",
    "# 훈련 과정에서와 달리 LSTM의 리턴하는 은닉 상태와 셀 상태인 state_h와 state_c를 버리지 않음.\n",
    "decoder_outputs2, state_h2, state_c2 = decoder_lstm(dec_emb2, initial_state=[decoder_state_input_h, decoder_state_input_c])"
   ]
  },
  {
   "cell_type": "code",
   "execution_count": 65,
   "id": "known-garage",
   "metadata": {},
   "outputs": [],
   "source": [
    "# 어텐션 함수\n",
    "decoder_hidden_state_input = Input(shape=(text_max_len, hidden_size))\n",
    "attn_out_inf, attn_states_inf = attn_layer([decoder_hidden_state_input, decoder_outputs2])\n",
    "decoder_inf_concat = Concatenate(axis=-1, name='concat')([decoder_outputs2, attn_out_inf])\n",
    "\n",
    "# 디코더의 출력층\n",
    "decoder_outputs2 = decoder_softmax_layer(decoder_inf_concat) \n",
    "\n",
    "# 최종 디코더 모델\n",
    "decoder_model = Model(\n",
    "    [decoder_inputs] + [decoder_hidden_state_input,decoder_state_input_h, decoder_state_input_c],\n",
    "    [decoder_outputs2] + [state_h2, state_c2])"
   ]
  },
  {
   "cell_type": "code",
   "execution_count": 69,
   "id": "engaged-longer",
   "metadata": {},
   "outputs": [],
   "source": [
    "def decode_sequence(input_seq):\n",
    "    # 입력으로부터 인코더의 상태를 얻음\n",
    "    e_out, e_h, e_c = encoder_model.predict(input_seq)\n",
    "\n",
    "     # <SOS>에 해당하는 토큰 생성\n",
    "    target_seq = np.zeros((1,1))\n",
    "    target_seq[0, 0] = tar_word_to_index['sostoken']\n",
    "\n",
    "    stop_condition = False\n",
    "    decoded_sentence = ''\n",
    "    while not stop_condition: # stop_condition이 True가 될 때까지 루프 반복\n",
    "\n",
    "        output_tokens, h, c = decoder_model.predict([target_seq] + [e_out, e_h, e_c])\n",
    "        sampled_token_index = np.argmax(output_tokens[0, -1, :])\n",
    "        sampled_token = tar_index_to_word[sampled_token_index]\n",
    "\n",
    "        if (sampled_token!='eostoken'):\n",
    "            decoded_sentence += ' '+sampled_token\n",
    "\n",
    "        #  <eos>에 도달하거나 최대 길이를 넘으면 중단.\n",
    "        if (sampled_token == 'eostoken'  or len(decoded_sentence.split()) >= (headlines_max_len-1)):\n",
    "            stop_condition = True\n",
    "\n",
    "        # 길이가 1인 타겟 시퀀스를 업데이트\n",
    "        target_seq = np.zeros((1,1))\n",
    "        target_seq[0, 0] = sampled_token_index\n",
    "\n",
    "        # 상태를 업데이트 합니다.\n",
    "        e_h, e_c = h, c\n",
    "\n",
    "    return decoded_sentence"
   ]
  },
  {
   "cell_type": "markdown",
   "id": "conventional-tissue",
   "metadata": {},
   "source": [
    "원문의 정수 시퀀스 -> 텍스트 시퀀스, 요약문의 정수 시퀀스 -> 텍스트 시퀀스로 변환하는 함수를 만들어준다."
   ]
  },
  {
   "cell_type": "code",
   "execution_count": 67,
   "id": "intimate-maryland",
   "metadata": {},
   "outputs": [],
   "source": [
    "# 원문의 정수 시퀀스를 텍스트 시퀀스로 변환\n",
    "def seq2text(input_seq):\n",
    "    temp=''\n",
    "    for i in input_seq:\n",
    "        if (i!=0):\n",
    "            temp = temp + src_index_to_word[i]+' '\n",
    "    return temp\n",
    "\n",
    "# 요약문의 정수 시퀀스를 텍스트 시퀀스로 변환\n",
    "def seq2summary(input_seq):\n",
    "    temp=''\n",
    "    for i in input_seq:\n",
    "        if ((i!=0 and i!=tar_word_to_index['sostoken']) and i!=tar_word_to_index['eostoken']):\n",
    "            temp = temp + tar_index_to_word[i] + ' '\n",
    "    return temp"
   ]
  },
  {
   "cell_type": "markdown",
   "id": "strange-dominican",
   "metadata": {},
   "source": [
    "## Step 4. 실제 결과와 요약문 비교하기 (추상적 요약)\n",
    "원래의 요약문(headlines 열)과 학습을 통해 얻은 추상적 요약의 결과를 비교해 보세요."
   ]
  },
  {
   "cell_type": "code",
   "execution_count": 70,
   "id": "painted-vegetarian",
   "metadata": {
    "scrolled": true
   },
   "outputs": [
    {
     "name": "stdout",
     "output_type": "stream",
     "text": [
      "원문 : ousted uber ceo travis kalanick told staff cheat codes find use according documents filed google trial uber claimed ex engineer accused stealing files told kalanick need take see race need win \n",
      "실제 요약 : ex uber ceo staff to \n",
      "예측 요약 :  uber employee to employees in lawsuit\n",
      "\n",
      "\n",
      "원문 : rss chief mohan bhagwat wednesday asserted running india next president lots news newspapers including entertainment based items consider one said adding would reject post even offered bhagwat said would prefer work rss \n",
      "실제 요약 : not in presidential race would work with rss \n",
      "예측 요약 :  not for not political rss\n",
      "\n",
      "\n",
      "원문 : tripura cricket association association bcci build cricket stadium capacity cm sarkar laid foundation stone stadium whose crore cost borne equally bcci second largest cricket stadium northeast guwahati stadium \n",
      "실제 요약 : tripura to bcci in building stadium \n",
      "예측 요약 :  bcci coach to miss india for\n",
      "\n",
      "\n",
      "원문 : government scrapped sugar export tax help boost overseas sales year production india expected produce record million tonnes sugar current marketing season according indian sugar mills association india notably world second largest producer sugar brazil \n",
      "실제 요약 : government duty to \n",
      "예측 요약 :  india most most ever in india\n",
      "\n",
      "\n",
      "원문 : boney kapoor producer film mr india completed years release thursday said proud people remember mr india even today boney added mr india never dependent actors magic film film starred anil kapoor sridevi \n",
      "실제 요약 : india even after years \n",
      "예측 요약 :  vidya kapoor to be in\n",
      "\n",
      "\n",
      "원문 : delhi become gas said delhi cm arvind kejriwal tuesday morning air quality index areas city touched severe per reports second time delhi hit severe pollution level since diwali visibility dropping metre morning \n",
      "실제 요약 : delhi has become gas cm kejriwal \n",
      "예측 요약 :  delhi govt to pay crore for\n",
      "\n",
      "\n",
      "원문 : residents darjeeling students sikkim university protesting west bengal government decision constructing tourist tiger hill protesters claim construction work direct violation green norms natural beauty place affect endangered plants animals wildlife \n",
      "실제 요약 : protests making of tourist at tiger \n",
      "예측 요약 :  students protest against for\n",
      "\n",
      "\n",
      "원문 : disha patani confirmed second heroine salman khan priyanka chopra starrer bharat reportedly seen playing role artiste film adaptation south korean movie father directed ali abbas zafar bharat release eid \n",
      "실제 요약 : disha to star with salman priyanka in bharat \n",
      "예측 요약 :  katrina to star in salman bharat bharat reports\n",
      "\n",
      "\n",
      "원문 : study international labour organisation revealed crore children aged years currently involved child labour least crore people across globe live modern adding historical study found women girls represent affected \n",
      "실제 요약 : crore children in forced across the world study \n",
      "예측 요약 :  india to be auctioned for lakh\n",
      "\n",
      "\n",
      "원문 : reacting two indian soldiers bodies pakistani army yoga guru swami ramdev thursday said india pakistani soldiers thing indian soldier ramdev also announced open patanjali school year children martyred soldiers \n",
      "실제 요약 : if pak kills our soldier its soldiers \n",
      "예측 요약 :  pakistan is pakistan\n",
      "\n",
      "\n",
      "원문 : actor playing role villain salman khan dabangg per reports actor sonu sood played antagonist dabangg prakash raj villain dabangg earlier reports starred salman race play antagonist film \n",
      "실제 요약 : actor to play in report \n",
      "예측 요약 :  salman khan to play in housefull reports\n",
      "\n",
      "\n",
      "원문 : aam aadmi party attended one delhi metro rail corporation board meetings held last two years swaraj india spokesperson anupam said citing documents annual report states concerned arvind kejriwal government metro rail functioning added \n",
      "실제 요약 : aap out of metro board swaraj india \n",
      "예측 요약 :  aap aap metro to get\n",
      "\n",
      "\n",
      "원문 : year old australian woman said surprised made instead flowers wedding day said everyone thought dated husband three years got married added wanted wedding bit different really reflect couple \n",
      "실제 요약 : australian bride gets married with made of \n",
      "예측 요약 :  woman to miss india\n",
      "\n",
      "\n",
      "원문 : farmer allegedly committed suicide cyclone hundreds trees farm tamil nadu district police said relatives found body near second suicide farmer state cyclone \n",
      "실제 요약 : ends life after cyclone \n",
      "예측 요약 :  jawan commits suicide after self\n",
      "\n",
      "\n",
      "원문 : cryptocurrency used many banks climbed hours wednesday price surge also saw total value grow billion briefly making third valuable digital currency bitcoin ethereum notably current value digital currencies billion \n",
      "실제 요약 : digital currency rises in just hours \n",
      "예측 요약 :  bitcoin price hits the first time in\n",
      "\n",
      "\n",
      "원문 : vice president venkaiah naidu tuesday urged people speak mother tongue word comes heart word comes said earlier year naidu asked people learn rashtra hindi stating widely spoken language country \n",
      "실제 요약 : always in your mother vice president naidu \n",
      "예측 요약 :  prez naidu for\n",
      "\n",
      "\n",
      "원문 : astronauts aboard international space station grown space help scientists understand process root growth experiment scientists aim find factor critical root growth water experiment found seek higher water critical \n",
      "실제 요약 : in space to help study growth \n",
      "예측 요약 :  nasa of earth\n",
      "\n",
      "\n",
      "원문 : indian investors saw wealth addition trillion fiscal market capitalisation listed companies reached trillion benchmark indices bse sensex nse nifty closed fiscal higher respectively sensex closed mark last trading session fiscal nifty ended points lower \n",
      "실제 요약 : indian investors trillion in wealth this \n",
      "예측 요약 :  crosses trillion in day in day\n",
      "\n",
      "\n",
      "원문 : ryan said la la land wrong announcement oscars relief earlier thought medical situation watching people reaction crowd guys coming heard oh started laughing said \n",
      "실제 요약 : ryan why he was during oscars \n",
      "예측 요약 :  kerala cm announces crore for\n",
      "\n",
      "\n",
      "원문 : teacher us state fired teaching students perform nazi salute teacher students give salute walking teacher modelling position raised arm said say hitler school officials said \n",
      "실제 요약 : us teacher fired for to students \n",
      "예측 요약 :  policeman protest after students at school\n",
      "\n",
      "\n",
      "원문 : sister one two nuns charity arrested ranchi police charges child trafficking confessed crime saying sold two babies said know adding gave away one child free \n",
      "실제 요약 : have sold more of \n",
      "예측 요약 :  ex man arrested for her\n",
      "\n",
      "\n",
      "원문 : comedian mishra featured kapil sharma show speaking ongoing row involving kapil said probably sudden success got made lose control kapil knew easily gets carried away important right people around added \n",
      "실제 요약 : made kapil lose control of himself \n",
      "예측 요약 :  kapil sharma sunil is\n",
      "\n",
      "\n",
      "원문 : presenting budget finance minister arun jaitley said lakh crore allocated develop cities smart cities mission added projects worth crore completed projects costing crore progress extra expenditure infrastructure sector increased lakh crore \n",
      "실제 요약 : cities under smart cities mission in budget \n",
      "예측 요약 :  crore tax tax to be\n",
      "\n",
      "\n",
      "원문 : expressing us political system russian president vladimir putin wednesday said demonstrated eating said difficult interact system however putin praised us president donald trump calling man \n",
      "실제 요약 : us political system eating russian president putin \n",
      "예측 요약 :  russia is putin of putin\n",
      "\n",
      "\n",
      "원문 : year old man kashmir brother allegedly beaten vehicle damaged near bus stop bengaluru speaking kannada two accused arrested based footage cctv installed near bus stop chief minister mehbooba mufti asked authorities take strict action accused \n",
      "실제 요약 : brothers assaulted in bengaluru for not in kannada \n",
      "예측 요약 :  man beaten for to delhi police station\n",
      "\n",
      "\n",
      "원문 : lawmakers militant group palestine disputed west bank accused president abbas monthly salaries according reports comes abbas allegedly trying force militants control overtook force defeating abbas movement \n",
      "실제 요약 : accuses prez of pay for \n",
      "예측 요약 :  russia prez orders to declare\n",
      "\n",
      "\n",
      "원문 : actress jacqueline fernandez talking upcoming films event said judwaa working drive salman race race reportedly directed remo souza making salman remo first project together director actor race starring jacqueline deepika padukone john abraham released \n",
      "실제 요약 : jacqueline says she is doing race with salman khan \n",
      "예측 요약 :  jacqueline kapoor jacqueline\n",
      "\n",
      "\n",
      "원문 : part security drill internet services mobile phones suspended authorities jammu kashmir eve republic day though internet services suspended republic day independence day state every year first time services suspended day \n",
      "실제 요약 : mobile internet service suspended on day in \n",
      "예측 요약 :  russia bans ban on bill\n",
      "\n",
      "\n",
      "원문 : japanese brand apologised one retail shops posted saying entry chinese people prohibited regret inappropriate caused feelings many people said statement company added identified branch responsible sign removed \n",
      "실제 요약 : japanese brand apologises over no chinese \n",
      "예측 요약 :  startup accidentally to\n",
      "\n",
      "\n",
      "원문 : pakistan interior minister iqbal survived injuries sunday shot rally police said pakistan muslim league nawaz leader received two bullets arm leaving rally reports claimed attacker identified year old hussain held undisclosed location \n",
      "실제 요약 : pakistan minister attempt \n",
      "예측 요약 :  pakistan chief chief chief\n",
      "\n",
      "\n",
      "원문 : bjp led government rajasthan passed ordinance barring investigation sitting former judges public servants duty action without government sanction ordinance bars media coverage accusations levelled public servants government grants permission probe accused \n",
      "실제 요약 : rajasthan against public \n",
      "예측 요약 :  bjp mla resigns amid triple talaq\n",
      "\n",
      "\n",
      "원문 : hollywood actress thompson revealed always paid less male counterparts forensic way looking women second class citizens appreciate emotional added fact person work less money wrong said \n",
      "실제 요약 : was always paid less than my male \n",
      "예측 요약 :  actress slammed for her\n",
      "\n",
      "\n",
      "원문 : people belonging lgbt community reportedly arrested tortured however authorities said arrests nothing anyone sexual cited several reasons including citizens behaviour involvement prostitution comes despite homosexuality legal country \n",
      "실제 요약 : mass arrests in amid on community \n",
      "예측 요약 :  police arrests for people in\n",
      "\n",
      "\n",
      "원문 : us president donald trump daughter ivanka trump word peak twitter user wrote users tweeted member first family care nothing called want diploma back \n",
      "실제 요약 : twitter mocks trump for \n",
      "예측 요약 :  twitter mocks trump for\n",
      "\n",
      "\n",
      "원문 : bag owned used princess diana sold auction us silver bag passed palace diana bag item diana style said \n",
      "실제 요약 : bag auctioned for over lakh \n",
      "예측 요약 :  world most expensive auctioned for crore\n",
      "\n",
      "\n",
      "원문 : scottish governments offer free women travelling countries northern ireland comes uk government recently announced fund procedure following pm theresa may deal form minority government democratic party abortion restrictions northern ireland \n",
      "실제 요약 : to offer free to women \n",
      "예측 요약 :  govt bans free from\n",
      "\n",
      "\n",
      "원문 : bjp mp dinesh kashyap said people converting religion particularly barred benefits government facilities called religious conversion big problem kashyap later clarified thinking adding number religious brought action taken \n",
      "실제 요약 : bar people from govt bjp mp \n",
      "예측 요약 :  not to be with\n",
      "\n",
      "\n",
      "원문 : mumbai police official thursday said employee city based five star hotel arrested allegedly molesting year old canadian woman stay hotel woman works event management firm complaint alleged man molested pretext taking selfie \n",
      "실제 요약 : canadian woman allegedly at star hotel in mumbai \n",
      "예측 요약 :  mumbai police booked for molesting woman in hyderabad\n",
      "\n",
      "\n",
      "원문 : engine bound express sunday twice reaching engine moved least km ahead leaving behind first time new engine sent get train destination engine second time \n",
      "실제 요약 : express engine leaves behind in odisha \n",
      "예측 요약 :  world oldest to be\n",
      "\n",
      "\n",
      "원문 : chelsea moved within one win fifth premier league title defeated bridge monday defeat premier league fourth time joint team win chelsea th victory home making third club reach milestone \n",
      "실제 요약 : win away from league title \n",
      "예측 요약 :  indian win the world record\n",
      "\n",
      "\n",
      "원문 : asking facebook ceo mark zuckerberg post social media platform said work used people rather bring us together posted message day jewish day asked hurt said work better \n",
      "실제 요약 : my work was used to people facebook ceo \n",
      "예측 요약 :  facebook zuckerberg to make data\n",
      "\n",
      "\n",
      "원문 : government owned banks reported losses crore final quarter according data net loss crore banks quarter last year listed public sector banks reported earnings till friday indian bank bank posted profits \n",
      "실제 요약 : public banks lose crore in march quarter \n",
      "예측 요약 :  bank profit rises to crore in fy\n",
      "\n",
      "\n",
      "원문 : three model national dinosaur museum australia said police tuesday using damaged models first spotted children visiting museum giant dinosaur stolen museum birthday four years ago \n",
      "실제 요약 : at australian museum \n",
      "예측 요약 :  oldest century found in\n",
      "\n",
      "\n",
      "원문 : citing kashmir pakistan bangladesh bjp mp subramanian swamy saturday tweeted wherever muslims majority hindu minorities non muslim majority united virat australia muslims practice al means surrender majority tweeted \n",
      "실제 요약 : muslims in are swamy \n",
      "예측 요약 :  gandhi is not pm gandhi\n",
      "\n",
      "\n",
      "원문 : jawaharlal nehru university vice chancellor kumar requested government get army tank campus feeling students tank remind students great indian army kumar said speaking celebration vijay campus \n",
      "실제 요약 : wants army in jnu for in students \n",
      "예측 요약 :  jnu officer to death in\n",
      "\n",
      "\n",
      "원문 : filmmaker anil sharma directed ek prem claimed baahubali conclusion set record yet added done business crore ticket rates per valuation crore today reached crore \n",
      "실제 요약 : baahubali set record made cr director \n",
      "예측 요약 :  baahubali is the most in film\n",
      "\n",
      "\n",
      "원문 : indian rupee much us dollar wednesday afternoon highest level since august gains rupee came ahead expectations rbi cut rate least basis points today far year indian rupee gained \n",
      "실제 요약 : rupee to year high of against us \n",
      "예측 요약 :  rupee of world largest population\n",
      "\n",
      "\n",
      "원문 : cricketer hardik pandya said derogatory tweet br ambedkar posted fake account using name reputation comes rajasthan court directed police register fir tweet pandya added make necessary court prove tweet \n",
      "실제 요약 : tweet to pandya on fir \n",
      "예측 요약 :  hardik pandya hacked to\n",
      "\n",
      "\n",
      "원문 : reacting political crisis bihar chief minister nitish kumar resignation wednesday user tweeted bihar like really bad divorce neither parents want kid tweeted another user meanwhile another tweet read call \n",
      "실제 요약 : no in bihar tweets user \n",
      "예측 요약 :  will not any any any any any any\n",
      "\n",
      "\n",
      "원문 : cabinet announced monday railways minister piyush goyal allotted additional charge finance ministry arun jaitley kidney transplant sports minister rajyavardhan singh rathore handed ministry replacing smriti irani handle textile ministry \n",
      "실제 요약 : takes over finance ministry as jaitley \n",
      "예측 요약 :  govt approves mandatory for govt\n",
      "\n",
      "\n"
     ]
    }
   ],
   "source": [
    "for i in range(50, 100):\n",
    "    print(\"원문 :\", seq2text(encoder_input_test[i]))\n",
    "    print(\"실제 요약 :\", seq2summary(decoder_input_test[i]))\n",
    "    print(\"예측 요약 :\", decode_sequence(encoder_input_test[i].reshape(1, text_max_len)))\n",
    "    print(\"\\n\")"
   ]
  },
  {
   "cell_type": "markdown",
   "id": "common-scenario",
   "metadata": {},
   "source": [
    "## Step 5. Summa을 이용해서 추출적 요약해보기\n",
    "추상적 요약은 추출적 요약과는 달리 문장의 표현력을 다양하게 가져갈 수 있지만, 추출적 요약에 비해서 난이도가 높다. \\\n",
    "반대로 말하면 추출적 요약은 추상적 요약에 비해 난이도가 낮고 기존 문장에서 문장을 꺼내오는 것이므로 잘못된 요약이 나올 가능성이 낮다."
   ]
  },
  {
   "cell_type": "markdown",
   "id": "threatened-aberdeen",
   "metadata": {},
   "source": [
    "추출적 요약을 위한 summa함수를 설치후 불러온다"
   ]
  },
  {
   "cell_type": "code",
   "execution_count": 74,
   "id": "apart-commitment",
   "metadata": {},
   "outputs": [],
   "source": [
    "from summa.summarizer import summarize"
   ]
  },
  {
   "cell_type": "code",
   "execution_count": 111,
   "id": "intellectual-feedback",
   "metadata": {
    "scrolled": true
   },
   "outputs": [
    {
     "data": {
      "text/plain": [
       "0        Saurav Kant, an alumnus of upGrad and IIIT-B's...\n",
       "1        Kunal Shah's credit card bill payment platform...\n",
       "2        New Zealand defeated India by 8 wickets in the...\n",
       "3        With Aegon Life iTerm Insurance plan, customer...\n",
       "4        Speaking about the sexual harassment allegatio...\n",
       "                               ...                        \n",
       "98396    A CRPF jawan was on Tuesday axed to death with...\n",
       "98397    'Uff Yeh', the first song from the Sonakshi Si...\n",
       "98398    According to reports, a new version of the 199...\n",
       "98399    A new music video shows rapper Snoop Dogg aimi...\n",
       "98400    Madhesi Morcha, an alliance of seven political...\n",
       "Name: text, Length: 98401, dtype: object"
      ]
     },
     "execution_count": 111,
     "metadata": {},
     "output_type": "execute_result"
    }
   ],
   "source": [
    "data_tmp = pd.read_csv('news_summary_more.csv', encoding='iso-8859-1')\n",
    "data_tmp[\"text\"]"
   ]
  },
  {
   "cell_type": "code",
   "execution_count": 144,
   "id": "virtual-pepper",
   "metadata": {
    "scrolled": true
   },
   "outputs": [
    {
     "name": "stdout",
     "output_type": "stream",
     "text": [
      "오오 나옵니다 :  Former Finance Minister Yashwant Sinha on Tuesday demanded a probe into the alleged diversion of loans worth Ã¢ÂÂ¹31,000 crore by Dewan Housing Finance (DHFL).\n",
      "오오 나옵니다 :  Boeing retained its position as the world's largest planemaker for the seventh straight year, delivering 806 aircraft in 2018.\n",
      "오오 나옵니다 :  \n",
      "오오 나옵니다 :  Further, its OnePlus 6 emerged as the highest selling premium smartphone of 2018 followed by OnePlus 6T.\n",
      "오오 나옵니다 :  Filmmaker Pooja Bhatt, while talking about the presentation of women in her films, said, \"I can never look at a female body, even if it's naked, in a vulgar manner.\" \"Our audience can say...the women in my films are bold or sensual, but never ever vulgar,\" she added.\n",
      "오오 나옵니다 :  Actress Mishti, who has featured in 'Manikarnika: The Queen of Jhansi', has said the film's co-director Kangana Ranaut made false promises to the cast.\n",
      "오오 나옵니다 :  The high-powered committee led by PM Narendra Modi to select the next CBI Director will meet again on February 1, Congress leader Mallikarjun Kharge has said.\n",
      "오오 나옵니다 :  Nevada State Athletic Commission has banned MMA fighters Conor McGregor and Khabib Nurmagomedov for six months and nine months respectively over their roles in the mass brawl that occurred after their fight at UFC 229 last October.\n",
      "오오 나옵니다 :  Pakistan captain Sarfaraz Ahmed, who has been banned for four matches over racist remarks, took an apparent dig at his critics by sharing a video of a child reciting 'log hai na' poem on Twitter.\n",
      "오오 나옵니다 :  Sreesanth further said the bookie tried dragging him into spot-fixing but he didn't fall for it.\n",
      "오오 나옵니다 :  The Finance Ministry on Wednesday said the government will present an Interim Budget on February 1.\n",
      "오오 나옵니다 :  US President Donald Trump on Wednesday called his country's top intelligence chiefs \"naive\" and \"wrong\" on Iran and added that they should perhaps \"go back to school\".\n",
      "오오 나옵니다 :  A senior priest at the Vatican who handled cases of sexual abuse has quit after being accused of sexual abuse by a former nun.\n",
      "오오 나옵니다 :  A 22-year-old writer turned down a job offer, claiming she was bullied to the point of tears during her two-hour interview by a UK company's CEO.\n",
      "오오 나옵니다 :  Noida Police has arrested Sector 20 station in-charge Manoj Pant and three journalists for allegedly extorting money from a call centre owner for removing his name from an FIR.\n",
      "오오 나옵니다 :  Airtel Africa, the holding company for Airtel's operations in 14 African countries, is preparing for an initial public offering.\n",
      "오오 나옵니다 :  Actor Shreyas Talpade said that 'Golmaal' filmmaker Rohit Shetty is still working on the script for the fifth instalment of the 'Golmaal' film franchise.\n",
      "Once he's done with the...scripting, he'll take a call,Ã¢ÂÂ the actor added.\n",
      "오오 나옵니다 :  A 72-year-old man named Terry Sanderson has sued 'Avengers' actress Gwyneth Paltrow for allegedly crashing into him while skiing, and is seeking $3.1 million (over Ã¢ÂÂ¹22 crore) in damages.\n",
      "오오 나옵니다 :  Yami Gautam was felicitated by Border Security Force (BSF) in Amritsar for her performance in 'Uri: The Surgical Strike'.\n",
      "오오 나옵니다 :  Social media giant Facebook has hired privacy critic Nate Cardozo, formerly the top legal counsel for US privacy watchdog EFF, as a privacy policy manager for WhatsApp. Cardozo had called Facebook a \"faceless corporation\" whose business model depends on user's confusion and indifference about privacy, in October 2015.\n",
      "오오 나옵니다 :  \"WeÃ¢ÂÂve decided to go back to (iPhone prices) more commensurate with...local prices...a year ago,\" Cook added.\n",
      "오오 나옵니다 :  \"The majority of fatalities from shark bites is due to blood loss...shock from blood loss,\" a scientist said.\n",
      "오오 나옵니다 :  BJP National Secretary Rahul Sinha on Wednesday asked the party workers in West Bengal to come armed with sticks to PM Narendra Modi's rally in the state on February 2.\n",
      "오오 나옵니다 :  BJP President Amit Shah on Wednesday took a dig at the Opposition parties saying that the 'mahagathbandhan' for the Opposition is 4B - \"Bua-Bhatija-Bhai-Behen\".\n",
      "오오 나옵니다 :  Volkswagen's sales, including its MAN and Scania heavy trucks and buses, rose 0.9% to 10.83 million in 2018, the company had said.\n",
      "오오 나옵니다 :  Ousted Nissan Chairman Carlos Ghosn has said his arrest over alleged financial misconduct was led by \"plot and treason\" by the Japanese carmaker's executives who opposed its deeper integration with Renault and Mitsubishi.\n",
      "오오 나옵니다 :  The government has cut down customs duty on import of parts and components for electric vehicles to 10-15%, down from the previous 15-30%.\n",
      "오오 나옵니다 :  Government officials on Wednesday said that a swine flu outbreak has killed 76 people this year in Rajasthan.\n",
      "오오 나옵니다 :  \"North Korean leaders view nuclear arms as critical to regime survival,\" he added.\n",
      "오오 나옵니다 :  Further, three aircraft have been temporarily grounded to carry out an engine normalisation exercise, it added.\n",
      "오오 나옵니다 :  Retired Justice Srikrishna's enquiry panel has found that ex-CEO Chanda Kochhar violated ICICI Bank's code of conduct.\n",
      "오오 나옵니다 :  Ex-India cricketer Jacob Martin has been shifted to general ward from the ICU after being on a ventilator for nearly a month following a road accident, wherein he severely injured his lungs.\n",
      "오오 나옵니다 :  Tanya accused Perera of meeting country's Sports Minister to secure his place in the team.\n",
      "오오 나옵니다 :  Goa CM and ex-Defence Minister Manohar Parrikar has written a letter to Congress President Rahul Gandhi over his claim that Parrikar told him he has nothing to do with new Rafale deal.\n",
      "오오 나옵니다 :  PM Modi then asked his officers to urgently arrange for an ambulance for the cameraman.\n",
      "오오 나옵니다 :  A couple got divorced minutes after their wedding ceremony got over in Gujarat's Gondal as a disagreement broke out and relatives from both sides started throwing dishes at each other during lunch.\n",
      "오오 나옵니다 :  Gujarat Education Minister Bhupendrasinh Chudasma has written a congratulatory message to a yoga ashram run by rape-convict Asaram's organisation for observing February 14 as \"Matru-Pitru Pujan Divas\" (Mother-Father worship day).\n",
      "오오 나옵니다 :  Venezuelan President NicolÃÂ¡s Maduro has claimed that his American counterpart Donald Trump ordered the Colombian government and the Colombian mafia to kill him.\n",
      "오오 나옵니다 :  The richest among them is Hong Kong's Li Ka Shing with a net worth of $30.5 billion.\n",
      "오오 나옵니다 :  Tamil Nadu food safety officials on Wednesday raided and seized 1,000 kgs of banned plastic items from Hotel Saravana Bhavan in Chennai's Vadapalani.\n",
      "오오 나옵니다 :  Actress Shamita Shetty was verbally abused and her driver was slapped in an incident of road rage in Mumbai on Tuesday, as per reports.\n",
      "오오 나옵니다 :  Actress Vaani Kapoor said that trolling has become a norm on social media, adding, \"There's no one who hasn't got trolled on social media.\" \"Everybody is out there to pull the other person down but it'll only bother [you] if you let it bother you,\" Vaani added.\n",
      "오오 나옵니다 :  Actress Sushmita Sen took to Instagram to share a joke on the subject of marriage.\n",
      "\"This is an insult to [the] beauty of marriage,\" an Instagram user commented on her post.\n",
      "오오 나옵니다 :  Television actor Karanvir Bohra, who flew to Russia on Tuesday to attend a film festival, has been detained in Moscow due to passport damage.\n",
      "오오 나옵니다 :  While speaking about winning awards for his films, Shah Rukh Khan said, \"If I don't get an award, that award is at a loss.\" \"Sometimes, the prestige of an award increases when I receive it,\" the actor jokingly added.\n",
      "오오 나옵니다 :  Actress Patralekhaa will make her debut in the Kannada film industry with the action-comedy film 'Where is my Kannadaka?' \"I can definitely say that itÃ¢ÂÂs a kind of role that I havenÃ¢ÂÂt portrayed on screen so far and that makes it special for me,\" the actress said in a statement.\n",
      "오오 나옵니다 :  Gmail on Tuesday faced a global outage, which also affected India, wherein certain users complained they faced a '404 error' message while trying to sign-in to their accounts.\n",
      "The error message read: \"The requested URL was not found on this server.\n",
      "오오 나옵니다 :  Shiv Sena chief Uddhav Thackeray has asked the BJP to decide about the alliance with the Sena within 15 days and said the BJP should make a concrete proposal on the alliance.\n",
      "오오 나옵니다 :  He said the Opposition is thinking about leading the country but does not have a leader.\n",
      "오오 나옵니다 :  He added decisions like demonetisation and RERA have put a check on black money that used to be \"parked in the real estate sector\".\n"
     ]
    }
   ],
   "source": [
    "for i in range(50, 100):\n",
    "    print(\"오오 나옵니다 : \", summarize(data_tmp[\"text\"][i], ratio=0.5))"
   ]
  },
  {
   "cell_type": "markdown",
   "id": "parental-customs",
   "metadata": {},
   "source": [
    "summarize의 ratio를 0.005 정도를 해주니, 문장이 짧아서 요약이 되지 않았다. \\\n",
    "ratio를 0.1로 해줘도 주어진 문장이 너무 짧아서 요약이 되지 않았으며, \\\n",
    "ratio를 0.3으로 해줬을 때 몇몇 문장이 도출됬으며, \\\n",
    "ratio를 0.5로 했을 땐 모든 문장은 아니지만, 대다수의 문장이 요약된 것을 확인할 수 있다. \\\n",
    "문장의 길이가 충분하게 주어졌을 때는 0.005, 0.01같이 작은 ratio을 지정해줘도, 요약이 잘 될 수 있다는 것을 알아간다."
   ]
  }
 ],
 "metadata": {
  "kernelspec": {
   "display_name": "Python 3",
   "language": "python",
   "name": "python3"
  },
  "language_info": {
   "codemirror_mode": {
    "name": "ipython",
    "version": 3
   },
   "file_extension": ".py",
   "mimetype": "text/x-python",
   "name": "python",
   "nbconvert_exporter": "python",
   "pygments_lexer": "ipython3",
   "version": "3.7.9"
  }
 },
 "nbformat": 4,
 "nbformat_minor": 5
}
