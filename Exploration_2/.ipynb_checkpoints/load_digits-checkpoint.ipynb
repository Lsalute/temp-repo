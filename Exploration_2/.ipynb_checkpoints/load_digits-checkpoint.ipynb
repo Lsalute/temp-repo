{
 "cells": [
  {
   "cell_type": "markdown",
   "metadata": {
    "id": "f-SHJ31JA8S0"
   },
   "source": [
    "# module 불러오기 "
   ]
  },
  {
   "cell_type": "code",
   "execution_count": 7,
   "metadata": {
    "executionInfo": {
     "elapsed": 321,
     "status": "ok",
     "timestamp": 1626316016718,
     "user": {
      "displayName": "YouJeong Lee",
      "photoUrl": "",
      "userId": "11868665778938818692"
     },
     "user_tz": -540
    },
    "id": "_QIZCAKC8RLz"
   },
   "outputs": [],
   "source": [
    "# data load\n",
    "from sklearn.datasets import load_digits\n",
    "\n",
    "# train test split\n",
    "from sklearn.model_selection import train_test_split\n",
    "\n",
    "# model\n",
    "from sklearn.tree import DecisionTreeClassifier\n",
    "from sklearn.ensemble import RandomForestClassifier\n",
    "from sklearn.svm import SVC\n",
    "from sklearn.linear_model import SGDClassifier\n",
    "from sklearn.linear_model import LogisticRegression\n",
    "\n",
    "# report\n",
    "from sklearn.metrics import classification_report"
   ]
  },
  {
   "cell_type": "markdown",
   "metadata": {
    "id": "-ylc6YpD9p1w"
   },
   "source": [
    "# digits 데이터 불러오기"
   ]
  },
  {
   "cell_type": "code",
   "execution_count": null,
   "metadata": {
    "id": "cpMctjI-8pSo"
   },
   "outputs": [],
   "source": [
    "digits = load_digits()\n",
    "print(digits)"
   ]
  },
  {
   "cell_type": "code",
   "execution_count": 3,
   "metadata": {
    "colab": {
     "base_uri": "https://localhost:8080/"
    },
    "executionInfo": {
     "elapsed": 293,
     "status": "ok",
     "timestamp": 1626315410397,
     "user": {
      "displayName": "YouJeong Lee",
      "photoUrl": "",
      "userId": "11868665778938818692"
     },
     "user_tz": -540
    },
    "id": "HhV6I-z28pVD",
    "outputId": "8144d4ab-847c-434c-9caf-e57a489ba715"
   },
   "outputs": [
    {
     "data": {
      "text/plain": [
       "array([0, 1, 2, 3, 4, 5, 6, 7, 8, 9])"
      ]
     },
     "execution_count": 3,
     "metadata": {
      "tags": []
     },
     "output_type": "execute_result"
    }
   ],
   "source": [
    "digits.target_names"
   ]
  },
  {
   "cell_type": "code",
   "execution_count": 5,
   "metadata": {
    "executionInfo": {
     "elapsed": 280,
     "status": "ok",
     "timestamp": 1626315479929,
     "user": {
      "displayName": "YouJeong Lee",
      "photoUrl": "",
      "userId": "11868665778938818692"
     },
     "user_tz": -540
    },
    "id": "GsfKs44a8pXO"
   },
   "outputs": [],
   "source": [
    "data = digits.data\n",
    "target = digits.target"
   ]
  },
  {
   "cell_type": "markdown",
   "metadata": {
    "id": "qiaguHHi9kLZ"
   },
   "source": [
    "# train, test 데이터 분리"
   ]
  },
  {
   "cell_type": "code",
   "execution_count": 6,
   "metadata": {
    "colab": {
     "base_uri": "https://localhost:8080/"
    },
    "executionInfo": {
     "elapsed": 314,
     "status": "ok",
     "timestamp": 1626315565392,
     "user": {
      "displayName": "YouJeong Lee",
      "photoUrl": "",
      "userId": "11868665778938818692"
     },
     "user_tz": -540
    },
    "id": "1MhzJ_8W8pdu",
    "outputId": "67ef77c6-f809-4a5a-c226-a03c6327015d"
   },
   "outputs": [
    {
     "data": {
      "text/plain": [
       "array([[ 0.,  1., 12., ..., 14.,  1.,  0.],\n",
       "       [ 0.,  0.,  9., ..., 16.,  2.,  0.],\n",
       "       [ 0.,  0.,  3., ...,  0.,  0.,  0.],\n",
       "       ...,\n",
       "       [ 0.,  0.,  4., ..., 10.,  1.,  0.],\n",
       "       [ 0.,  0.,  0., ..., 15.,  5.,  0.],\n",
       "       [ 0.,  0.,  0., ...,  0.,  0.,  0.]])"
      ]
     },
     "execution_count": 6,
     "metadata": {
      "tags": []
     },
     "output_type": "execute_result"
    }
   ],
   "source": [
    "X_train, X_test, y_train, y_test = train_test_split(data, target, test_size=0.2, random_state=77)\n",
    "X_train"
   ]
  },
  {
   "cell_type": "markdown",
   "metadata": {
    "id": "HyVCY6b2_X-1"
   },
   "source": [
    "# 각 모델들 학습 시키기"
   ]
  },
  {
   "cell_type": "code",
   "execution_count": 8,
   "metadata": {
    "colab": {
     "base_uri": "https://localhost:8080/"
    },
    "executionInfo": {
     "elapsed": 282,
     "status": "ok",
     "timestamp": 1626316087772,
     "user": {
      "displayName": "YouJeong Lee",
      "photoUrl": "",
      "userId": "11868665778938818692"
     },
     "user_tz": -540
    },
    "id": "bsR5Z9Pl8pgI",
    "outputId": "1304cf79-6d14-485d-d31b-0ee739a83c17"
   },
   "outputs": [
    {
     "data": {
      "text/plain": [
       "DecisionTreeClassifier(ccp_alpha=0.0, class_weight=None, criterion='gini',\n",
       "                       max_depth=None, max_features=None, max_leaf_nodes=None,\n",
       "                       min_impurity_decrease=0.0, min_impurity_split=None,\n",
       "                       min_samples_leaf=1, min_samples_split=2,\n",
       "                       min_weight_fraction_leaf=0.0, presort='deprecated',\n",
       "                       random_state=None, splitter='best')"
      ]
     },
     "execution_count": 8,
     "metadata": {
      "tags": []
     },
     "output_type": "execute_result"
    }
   ],
   "source": [
    "# DecisionTree\n",
    "model_tree = DecisionTreeClassifier()\n",
    "model_tree.fit(X_train, y_train)"
   ]
  },
  {
   "cell_type": "code",
   "execution_count": 9,
   "metadata": {
    "colab": {
     "base_uri": "https://localhost:8080/"
    },
    "executionInfo": {
     "elapsed": 749,
     "status": "ok",
     "timestamp": 1626316139972,
     "user": {
      "displayName": "YouJeong Lee",
      "photoUrl": "",
      "userId": "11868665778938818692"
     },
     "user_tz": -540
    },
    "id": "z7TWUSED8plT",
    "outputId": "482d05a5-4064-4aae-dd33-c158680a3145"
   },
   "outputs": [
    {
     "data": {
      "text/plain": [
       "RandomForestClassifier(bootstrap=True, ccp_alpha=0.0, class_weight=None,\n",
       "                       criterion='gini', max_depth=None, max_features='auto',\n",
       "                       max_leaf_nodes=None, max_samples=None,\n",
       "                       min_impurity_decrease=0.0, min_impurity_split=None,\n",
       "                       min_samples_leaf=1, min_samples_split=2,\n",
       "                       min_weight_fraction_leaf=0.0, n_estimators=100,\n",
       "                       n_jobs=None, oob_score=False, random_state=None,\n",
       "                       verbose=0, warm_start=False)"
      ]
     },
     "execution_count": 9,
     "metadata": {
      "tags": []
     },
     "output_type": "execute_result"
    }
   ],
   "source": [
    "# RandomForest\n",
    "model_random_forest = RandomForestClassifier()\n",
    "model_random_forest.fit(X_train, y_train)"
   ]
  },
  {
   "cell_type": "code",
   "execution_count": 10,
   "metadata": {
    "colab": {
     "base_uri": "https://localhost:8080/"
    },
    "executionInfo": {
     "elapsed": 289,
     "status": "ok",
     "timestamp": 1626316199103,
     "user": {
      "displayName": "YouJeong Lee",
      "photoUrl": "",
      "userId": "11868665778938818692"
     },
     "user_tz": -540
    },
    "id": "cDIxPaUI8pnV",
    "outputId": "31855d4f-13b9-4706-8f57-eed0d8d9e90f"
   },
   "outputs": [
    {
     "data": {
      "text/plain": [
       "SVC(C=1.0, break_ties=False, cache_size=200, class_weight=None, coef0=0.0,\n",
       "    decision_function_shape='ovr', degree=3, gamma='scale', kernel='rbf',\n",
       "    max_iter=-1, probability=False, random_state=None, shrinking=True,\n",
       "    tol=0.001, verbose=False)"
      ]
     },
     "execution_count": 10,
     "metadata": {
      "tags": []
     },
     "output_type": "execute_result"
    }
   ],
   "source": [
    "# SVM\n",
    "model_svc = SVC()\n",
    "model_svc.fit(X_train, y_train)"
   ]
  },
  {
   "cell_type": "code",
   "execution_count": 11,
   "metadata": {
    "colab": {
     "base_uri": "https://localhost:8080/"
    },
    "executionInfo": {
     "elapsed": 297,
     "status": "ok",
     "timestamp": 1626316227786,
     "user": {
      "displayName": "YouJeong Lee",
      "photoUrl": "",
      "userId": "11868665778938818692"
     },
     "user_tz": -540
    },
    "id": "TAqIJKmf8pph",
    "outputId": "30fe669d-9b7e-47af-d194-86b3a3bad364"
   },
   "outputs": [
    {
     "data": {
      "text/plain": [
       "SGDClassifier(alpha=0.0001, average=False, class_weight=None,\n",
       "              early_stopping=False, epsilon=0.1, eta0=0.0, fit_intercept=True,\n",
       "              l1_ratio=0.15, learning_rate='optimal', loss='hinge',\n",
       "              max_iter=1000, n_iter_no_change=5, n_jobs=None, penalty='l2',\n",
       "              power_t=0.5, random_state=None, shuffle=True, tol=0.001,\n",
       "              validation_fraction=0.1, verbose=0, warm_start=False)"
      ]
     },
     "execution_count": 11,
     "metadata": {
      "tags": []
     },
     "output_type": "execute_result"
    }
   ],
   "source": [
    "# SGD\n",
    "model_sgd = SGDClassifier()\n",
    "model_sgd.fit(X_train, y_train)"
   ]
  },
  {
   "cell_type": "code",
   "execution_count": 13,
   "metadata": {
    "colab": {
     "base_uri": "https://localhost:8080/"
    },
    "executionInfo": {
     "elapsed": 777,
     "status": "ok",
     "timestamp": 1626316330285,
     "user": {
      "displayName": "YouJeong Lee",
      "photoUrl": "",
      "userId": "11868665778938818692"
     },
     "user_tz": -540
    },
    "id": "LhGt5NXnAGA9",
    "outputId": "3397dab1-a5a4-4c7e-ee8d-ba61322df35d"
   },
   "outputs": [
    {
     "name": "stderr",
     "output_type": "stream",
     "text": [
      "/usr/local/lib/python3.7/dist-packages/sklearn/linear_model/_logistic.py:940: ConvergenceWarning: lbfgs failed to converge (status=1):\n",
      "STOP: TOTAL NO. of ITERATIONS REACHED LIMIT.\n",
      "\n",
      "Increase the number of iterations (max_iter) or scale the data as shown in:\n",
      "    https://scikit-learn.org/stable/modules/preprocessing.html\n",
      "Please also refer to the documentation for alternative solver options:\n",
      "    https://scikit-learn.org/stable/modules/linear_model.html#logistic-regression\n",
      "  extra_warning_msg=_LOGISTIC_SOLVER_CONVERGENCE_MSG)\n"
     ]
    },
    {
     "data": {
      "text/plain": [
       "LogisticRegression(C=1.0, class_weight=None, dual=False, fit_intercept=True,\n",
       "                   intercept_scaling=1, l1_ratio=None, max_iter=100,\n",
       "                   multi_class='auto', n_jobs=None, penalty='l2',\n",
       "                   random_state=None, solver='lbfgs', tol=0.0001, verbose=0,\n",
       "                   warm_start=False)"
      ]
     },
     "execution_count": 13,
     "metadata": {
      "tags": []
     },
     "output_type": "execute_result"
    }
   ],
   "source": [
    "# Logistic Regression\n",
    "model_LR = LogisticRegression()\n",
    "model_LR.fit(X_train, y_train)"
   ]
  },
  {
   "cell_type": "markdown",
   "metadata": {
    "id": "-QY4Afi8Aksc"
   },
   "source": [
    "# 모델 사용해보고 평가하기"
   ]
  },
  {
   "cell_type": "code",
   "execution_count": 15,
   "metadata": {
    "colab": {
     "base_uri": "https://localhost:8080/"
    },
    "executionInfo": {
     "elapsed": 313,
     "status": "ok",
     "timestamp": 1626316413287,
     "user": {
      "displayName": "YouJeong Lee",
      "photoUrl": "",
      "userId": "11868665778938818692"
     },
     "user_tz": -540
    },
    "id": "EESB6KyZAF-9",
    "outputId": "3dec813b-80e3-4d5c-a2ce-f2917faa56a3"
   },
   "outputs": [
    {
     "name": "stdout",
     "output_type": "stream",
     "text": [
      "              precision    recall  f1-score   support\n",
      "\n",
      "           0       0.97      0.91      0.94        33\n",
      "           1       0.88      0.86      0.87        49\n",
      "           2       0.91      0.86      0.89        36\n",
      "           3       0.83      0.85      0.84        34\n",
      "           4       0.84      0.86      0.85        42\n",
      "           5       0.94      0.91      0.92        33\n",
      "           6       0.89      0.97      0.93        35\n",
      "           7       0.89      0.92      0.91        37\n",
      "           8       0.70      0.76      0.73        25\n",
      "           9       0.76      0.72      0.74        36\n",
      "\n",
      "    accuracy                           0.86       360\n",
      "   macro avg       0.86      0.86      0.86       360\n",
      "weighted avg       0.87      0.86      0.86       360\n",
      "\n"
     ]
    }
   ],
   "source": [
    "# Decision Tree\n",
    "y_pred = model_tree.predict(X_test)\n",
    "print(classification_report(y_pred, y_test))"
   ]
  },
  {
   "cell_type": "code",
   "execution_count": 16,
   "metadata": {
    "colab": {
     "base_uri": "https://localhost:8080/"
    },
    "executionInfo": {
     "elapsed": 340,
     "status": "ok",
     "timestamp": 1626316510372,
     "user": {
      "displayName": "YouJeong Lee",
      "photoUrl": "",
      "userId": "11868665778938818692"
     },
     "user_tz": -540
    },
    "id": "uVyKyFX7AF8e",
    "outputId": "0b288ff1-1812-4a5b-ecbd-7a6f336c4cfb"
   },
   "outputs": [
    {
     "name": "stdout",
     "output_type": "stream",
     "text": [
      "              precision    recall  f1-score   support\n",
      "\n",
      "           0       0.97      1.00      0.98        30\n",
      "           1       0.98      1.00      0.99        47\n",
      "           2       1.00      1.00      1.00        34\n",
      "           3       1.00      0.95      0.97        37\n",
      "           4       0.98      0.95      0.97        44\n",
      "           5       0.97      0.97      0.97        32\n",
      "           6       0.97      1.00      0.99        37\n",
      "           7       0.97      0.97      0.97        38\n",
      "           8       0.96      0.96      0.96        27\n",
      "           9       0.97      0.97      0.97        34\n",
      "\n",
      "    accuracy                           0.98       360\n",
      "   macro avg       0.98      0.98      0.98       360\n",
      "weighted avg       0.98      0.98      0.98       360\n",
      "\n"
     ]
    }
   ],
   "source": [
    "# Random Forest\n",
    "y_pred = model_random_forest.predict(X_test)\n",
    "print(classification_report(y_pred, y_test))"
   ]
  },
  {
   "cell_type": "code",
   "execution_count": 17,
   "metadata": {
    "colab": {
     "base_uri": "https://localhost:8080/"
    },
    "executionInfo": {
     "elapsed": 312,
     "status": "ok",
     "timestamp": 1626316540321,
     "user": {
      "displayName": "YouJeong Lee",
      "photoUrl": "",
      "userId": "11868665778938818692"
     },
     "user_tz": -540
    },
    "id": "AFVhdF74AF6N",
    "outputId": "214054fd-953d-4108-8d3d-cfeedd7b4429"
   },
   "outputs": [
    {
     "name": "stdout",
     "output_type": "stream",
     "text": [
      "              precision    recall  f1-score   support\n",
      "\n",
      "           0       1.00      1.00      1.00        31\n",
      "           1       1.00      1.00      1.00        48\n",
      "           2       1.00      1.00      1.00        34\n",
      "           3       1.00      1.00      1.00        35\n",
      "           4       0.98      1.00      0.99        42\n",
      "           5       1.00      1.00      1.00        32\n",
      "           6       1.00      1.00      1.00        38\n",
      "           7       1.00      1.00      1.00        38\n",
      "           8       0.96      0.96      0.96        27\n",
      "           9       1.00      0.97      0.99        35\n",
      "\n",
      "    accuracy                           0.99       360\n",
      "   macro avg       0.99      0.99      0.99       360\n",
      "weighted avg       0.99      0.99      0.99       360\n",
      "\n"
     ]
    }
   ],
   "source": [
    "# SVM\n",
    "y_pred = model_svc.predict(X_test)\n",
    "print(classification_report(y_pred, y_test))"
   ]
  },
  {
   "cell_type": "code",
   "execution_count": 18,
   "metadata": {
    "colab": {
     "base_uri": "https://localhost:8080/"
    },
    "executionInfo": {
     "elapsed": 295,
     "status": "ok",
     "timestamp": 1626316566253,
     "user": {
      "displayName": "YouJeong Lee",
      "photoUrl": "",
      "userId": "11868665778938818692"
     },
     "user_tz": -540
    },
    "id": "FrMtiL-qAF4N",
    "outputId": "e7378430-dcb9-4949-df4a-f61947548f35"
   },
   "outputs": [
    {
     "name": "stdout",
     "output_type": "stream",
     "text": [
      "              precision    recall  f1-score   support\n",
      "\n",
      "           0       1.00      1.00      1.00        31\n",
      "           1       0.92      0.92      0.92        48\n",
      "           2       1.00      1.00      1.00        34\n",
      "           3       0.91      0.97      0.94        33\n",
      "           4       0.95      1.00      0.98        41\n",
      "           5       0.94      0.91      0.92        33\n",
      "           6       0.97      0.93      0.95        40\n",
      "           7       1.00      0.95      0.97        40\n",
      "           8       0.89      0.86      0.87        28\n",
      "           9       0.94      1.00      0.97        32\n",
      "\n",
      "    accuracy                           0.95       360\n",
      "   macro avg       0.95      0.95      0.95       360\n",
      "weighted avg       0.95      0.95      0.95       360\n",
      "\n"
     ]
    }
   ],
   "source": [
    "# SGD\n",
    "y_pred = model_sgd.predict(X_test)\n",
    "print(classification_report(y_pred, y_test))"
   ]
  },
  {
   "cell_type": "code",
   "execution_count": 19,
   "metadata": {
    "colab": {
     "base_uri": "https://localhost:8080/"
    },
    "executionInfo": {
     "elapsed": 295,
     "status": "ok",
     "timestamp": 1626316600724,
     "user": {
      "displayName": "YouJeong Lee",
      "photoUrl": "",
      "userId": "11868665778938818692"
     },
     "user_tz": -540
    },
    "id": "seJs4cjoAF1Z",
    "outputId": "0880573f-94bc-41bd-e1b5-a9c602d13ebc"
   },
   "outputs": [
    {
     "name": "stdout",
     "output_type": "stream",
     "text": [
      "              precision    recall  f1-score   support\n",
      "\n",
      "           0       0.97      1.00      0.98        30\n",
      "           1       0.92      0.92      0.92        48\n",
      "           2       0.94      1.00      0.97        32\n",
      "           3       0.97      0.97      0.97        35\n",
      "           4       0.93      0.95      0.94        42\n",
      "           5       0.97      0.97      0.97        32\n",
      "           6       0.97      1.00      0.99        37\n",
      "           7       0.97      0.95      0.96        39\n",
      "           8       1.00      0.90      0.95        30\n",
      "           9       1.00      0.97      0.99        35\n",
      "\n",
      "    accuracy                           0.96       360\n",
      "   macro avg       0.96      0.96      0.96       360\n",
      "weighted avg       0.96      0.96      0.96       360\n",
      "\n"
     ]
    }
   ],
   "source": [
    "# Logistic Regression\n",
    "y_pred = model_LR.predict(X_test)\n",
    "print(classification_report(y_pred, y_test))"
   ]
  },
  {
   "cell_type": "markdown",
   "metadata": {
    "id": "nJDPA1sLBpEQ"
   },
   "source": [
    "DecisionTree 사용하는게 가장 적절해 보인다. 다른 모델들의 평가 지표들을 보면 100%가 나온게 보인다. overfitting 된 것으로 판단되며, DecisionTree를 사용하는 것이 적절해 보인다.\n"
   ]
  },
  {
   "cell_type": "code",
   "execution_count": null,
   "metadata": {
    "id": "VTPD-_GMAFyu"
   },
   "outputs": [],
   "source": []
  },
  {
   "cell_type": "code",
   "execution_count": null,
   "metadata": {
    "id": "17mXPZlzAFnH"
   },
   "outputs": [],
   "source": []
  },
  {
   "cell_type": "code",
   "execution_count": null,
   "metadata": {
    "id": "bQZFuHRLAFaT"
   },
   "outputs": [],
   "source": []
  }
 ],
 "metadata": {
  "colab": {
   "authorship_tag": "ABX9TyMtpV+GxRNkjKqN212Csopi",
   "collapsed_sections": [
    "f-SHJ31JA8S0",
    "-ylc6YpD9p1w",
    "qiaguHHi9kLZ"
   ],
   "name": "load_digits.ipynb",
   "provenance": []
  },
  "kernelspec": {
   "display_name": "Python 3",
   "language": "python",
   "name": "python3"
  },
  "language_info": {
   "codemirror_mode": {
    "name": "ipython",
    "version": 3
   },
   "file_extension": ".py",
   "mimetype": "text/x-python",
   "name": "python",
   "nbconvert_exporter": "python",
   "pygments_lexer": "ipython3",
   "version": "3.7.6"
  }
 },
 "nbformat": 4,
 "nbformat_minor": 1
}
