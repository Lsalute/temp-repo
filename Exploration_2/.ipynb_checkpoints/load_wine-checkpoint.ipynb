{
 "cells": [
  {
   "cell_type": "markdown",
   "metadata": {
    "id": "f-SHJ31JA8S0"
   },
   "source": [
    "# module 불러오기 "
   ]
  },
  {
   "cell_type": "code",
   "execution_count": null,
   "metadata": {
    "id": "_QIZCAKC8RLz"
   },
   "outputs": [],
   "source": [
    "# data load\n",
    "from sklearn.datasets import load_wine\n",
    "\n",
    "# train test split\n",
    "from sklearn.model_selection import train_test_split\n",
    "\n",
    "# model\n",
    "from sklearn.tree import DecisionTreeClassifier\n",
    "from sklearn.ensemble import RandomForestClassifier\n",
    "from sklearn.svm import SVC\n",
    "from sklearn.linear_model import SGDClassifier\n",
    "from sklearn.linear_model import LogisticRegression\n",
    "\n",
    "# report\n",
    "from sklearn.metrics import classification_report"
   ]
  },
  {
   "cell_type": "markdown",
   "metadata": {
    "id": "-ylc6YpD9p1w"
   },
   "source": [
    "# wine 데이터 불러오기"
   ]
  },
  {
   "cell_type": "code",
   "execution_count": null,
   "metadata": {
    "id": "cpMctjI-8pSo"
   },
   "outputs": [],
   "source": [
    "wine = load_wine()\n",
    "print(wine)"
   ]
  },
  {
   "cell_type": "code",
   "execution_count": null,
   "metadata": {
    "colab": {
     "base_uri": "https://localhost:8080/"
    },
    "executionInfo": {
     "elapsed": 297,
     "status": "ok",
     "timestamp": 1626317451651,
     "user": {
      "displayName": "YouJeong Lee",
      "photoUrl": "",
      "userId": "11868665778938818692"
     },
     "user_tz": -540
    },
    "id": "HhV6I-z28pVD",
    "outputId": "a9545148-50ab-41c1-96a1-64ec2bde1988"
   },
   "outputs": [
    {
     "data": {
      "text/plain": [
       "array(['class_0', 'class_1', 'class_2'], dtype='<U7')"
      ]
     },
     "execution_count": 4,
     "metadata": {
      "tags": []
     },
     "output_type": "execute_result"
    }
   ],
   "source": [
    "wine.target_names"
   ]
  },
  {
   "cell_type": "code",
   "execution_count": null,
   "metadata": {
    "id": "GsfKs44a8pXO"
   },
   "outputs": [],
   "source": [
    "data = wine.data\n",
    "target = wine.target"
   ]
  },
  {
   "cell_type": "markdown",
   "metadata": {
    "id": "qiaguHHi9kLZ"
   },
   "source": [
    "# train, test 데이터 분리"
   ]
  },
  {
   "cell_type": "code",
   "execution_count": null,
   "metadata": {
    "colab": {
     "base_uri": "https://localhost:8080/"
    },
    "executionInfo": {
     "elapsed": 305,
     "status": "ok",
     "timestamp": 1626317459785,
     "user": {
      "displayName": "YouJeong Lee",
      "photoUrl": "",
      "userId": "11868665778938818692"
     },
     "user_tz": -540
    },
    "id": "1MhzJ_8W8pdu",
    "outputId": "063841dc-ee98-45d0-a3c5-c486fe13ce38"
   },
   "outputs": [
    {
     "data": {
      "text/plain": [
       "array([[1.146e+01, 3.740e+00, 1.820e+00, ..., 7.500e-01, 2.810e+00,\n",
       "        5.620e+02],\n",
       "       [1.368e+01, 1.830e+00, 2.360e+00, ..., 1.230e+00, 2.870e+00,\n",
       "        9.900e+02],\n",
       "       [1.369e+01, 3.260e+00, 2.540e+00, ..., 9.600e-01, 1.820e+00,\n",
       "        6.800e+02],\n",
       "       ...,\n",
       "       [1.305e+01, 1.650e+00, 2.550e+00, ..., 1.120e+00, 2.510e+00,\n",
       "        1.105e+03],\n",
       "       [1.184e+01, 8.900e-01, 2.580e+00, ..., 7.900e-01, 3.080e+00,\n",
       "        5.200e+02],\n",
       "       [1.247e+01, 1.520e+00, 2.200e+00, ..., 1.160e+00, 2.630e+00,\n",
       "        9.370e+02]])"
      ]
     },
     "execution_count": 6,
     "metadata": {
      "tags": []
     },
     "output_type": "execute_result"
    }
   ],
   "source": [
    "X_train, X_test, y_train, y_test = train_test_split(data, target, test_size=0.2, random_state=77)\n",
    "X_train"
   ]
  },
  {
   "cell_type": "markdown",
   "metadata": {
    "id": "HyVCY6b2_X-1"
   },
   "source": [
    "# 각 모델들 학습 시키기"
   ]
  },
  {
   "cell_type": "code",
   "execution_count": null,
   "metadata": {
    "colab": {
     "base_uri": "https://localhost:8080/"
    },
    "executionInfo": {
     "elapsed": 474,
     "status": "ok",
     "timestamp": 1626317462729,
     "user": {
      "displayName": "YouJeong Lee",
      "photoUrl": "",
      "userId": "11868665778938818692"
     },
     "user_tz": -540
    },
    "id": "bsR5Z9Pl8pgI",
    "outputId": "9f7b1928-26e1-4348-d9e6-123b12111576"
   },
   "outputs": [
    {
     "data": {
      "text/plain": [
       "DecisionTreeClassifier(ccp_alpha=0.0, class_weight=None, criterion='gini',\n",
       "                       max_depth=None, max_features=None, max_leaf_nodes=None,\n",
       "                       min_impurity_decrease=0.0, min_impurity_split=None,\n",
       "                       min_samples_leaf=1, min_samples_split=2,\n",
       "                       min_weight_fraction_leaf=0.0, presort='deprecated',\n",
       "                       random_state=None, splitter='best')"
      ]
     },
     "execution_count": 7,
     "metadata": {
      "tags": []
     },
     "output_type": "execute_result"
    }
   ],
   "source": [
    "# DecisionTree\n",
    "model_tree = DecisionTreeClassifier()\n",
    "model_tree.fit(X_train, y_train)"
   ]
  },
  {
   "cell_type": "code",
   "execution_count": null,
   "metadata": {
    "colab": {
     "base_uri": "https://localhost:8080/"
    },
    "executionInfo": {
     "elapsed": 280,
     "status": "ok",
     "timestamp": 1626317464792,
     "user": {
      "displayName": "YouJeong Lee",
      "photoUrl": "",
      "userId": "11868665778938818692"
     },
     "user_tz": -540
    },
    "id": "z7TWUSED8plT",
    "outputId": "5988d872-d3a3-49de-f37a-5bb48092559f"
   },
   "outputs": [
    {
     "data": {
      "text/plain": [
       "RandomForestClassifier(bootstrap=True, ccp_alpha=0.0, class_weight=None,\n",
       "                       criterion='gini', max_depth=None, max_features='auto',\n",
       "                       max_leaf_nodes=None, max_samples=None,\n",
       "                       min_impurity_decrease=0.0, min_impurity_split=None,\n",
       "                       min_samples_leaf=1, min_samples_split=2,\n",
       "                       min_weight_fraction_leaf=0.0, n_estimators=100,\n",
       "                       n_jobs=None, oob_score=False, random_state=None,\n",
       "                       verbose=0, warm_start=False)"
      ]
     },
     "execution_count": 8,
     "metadata": {
      "tags": []
     },
     "output_type": "execute_result"
    }
   ],
   "source": [
    "# RandomForest\n",
    "model_random_forest = RandomForestClassifier()\n",
    "model_random_forest.fit(X_train, y_train)"
   ]
  },
  {
   "cell_type": "code",
   "execution_count": null,
   "metadata": {
    "colab": {
     "base_uri": "https://localhost:8080/"
    },
    "executionInfo": {
     "elapsed": 321,
     "status": "ok",
     "timestamp": 1626317466474,
     "user": {
      "displayName": "YouJeong Lee",
      "photoUrl": "",
      "userId": "11868665778938818692"
     },
     "user_tz": -540
    },
    "id": "cDIxPaUI8pnV",
    "outputId": "0c09de56-eef7-4014-e974-fb1535739a36"
   },
   "outputs": [
    {
     "data": {
      "text/plain": [
       "SVC(C=1.0, break_ties=False, cache_size=200, class_weight=None, coef0=0.0,\n",
       "    decision_function_shape='ovr', degree=3, gamma='scale', kernel='rbf',\n",
       "    max_iter=-1, probability=False, random_state=None, shrinking=True,\n",
       "    tol=0.001, verbose=False)"
      ]
     },
     "execution_count": 9,
     "metadata": {
      "tags": []
     },
     "output_type": "execute_result"
    }
   ],
   "source": [
    "# SVM\n",
    "model_svc = SVC()\n",
    "model_svc.fit(X_train, y_train)"
   ]
  },
  {
   "cell_type": "code",
   "execution_count": null,
   "metadata": {
    "colab": {
     "base_uri": "https://localhost:8080/"
    },
    "executionInfo": {
     "elapsed": 5,
     "status": "ok",
     "timestamp": 1626317467918,
     "user": {
      "displayName": "YouJeong Lee",
      "photoUrl": "",
      "userId": "11868665778938818692"
     },
     "user_tz": -540
    },
    "id": "TAqIJKmf8pph",
    "outputId": "7d68adac-a839-4ae1-ca0f-f2834191db6c"
   },
   "outputs": [
    {
     "data": {
      "text/plain": [
       "SGDClassifier(alpha=0.0001, average=False, class_weight=None,\n",
       "              early_stopping=False, epsilon=0.1, eta0=0.0, fit_intercept=True,\n",
       "              l1_ratio=0.15, learning_rate='optimal', loss='hinge',\n",
       "              max_iter=1000, n_iter_no_change=5, n_jobs=None, penalty='l2',\n",
       "              power_t=0.5, random_state=None, shuffle=True, tol=0.001,\n",
       "              validation_fraction=0.1, verbose=0, warm_start=False)"
      ]
     },
     "execution_count": 10,
     "metadata": {
      "tags": []
     },
     "output_type": "execute_result"
    }
   ],
   "source": [
    "# SGD\n",
    "model_sgd = SGDClassifier()\n",
    "model_sgd.fit(X_train, y_train)"
   ]
  },
  {
   "cell_type": "code",
   "execution_count": null,
   "metadata": {
    "colab": {
     "base_uri": "https://localhost:8080/"
    },
    "executionInfo": {
     "elapsed": 424,
     "status": "ok",
     "timestamp": 1626317469545,
     "user": {
      "displayName": "YouJeong Lee",
      "photoUrl": "",
      "userId": "11868665778938818692"
     },
     "user_tz": -540
    },
    "id": "LhGt5NXnAGA9",
    "outputId": "9ffe7131-f3dd-494b-8522-7dc50c328f27"
   },
   "outputs": [
    {
     "name": "stderr",
     "output_type": "stream",
     "text": [
      "/usr/local/lib/python3.7/dist-packages/sklearn/linear_model/_logistic.py:940: ConvergenceWarning: lbfgs failed to converge (status=1):\n",
      "STOP: TOTAL NO. of ITERATIONS REACHED LIMIT.\n",
      "\n",
      "Increase the number of iterations (max_iter) or scale the data as shown in:\n",
      "    https://scikit-learn.org/stable/modules/preprocessing.html\n",
      "Please also refer to the documentation for alternative solver options:\n",
      "    https://scikit-learn.org/stable/modules/linear_model.html#logistic-regression\n",
      "  extra_warning_msg=_LOGISTIC_SOLVER_CONVERGENCE_MSG)\n"
     ]
    },
    {
     "data": {
      "text/plain": [
       "LogisticRegression(C=1.0, class_weight=None, dual=False, fit_intercept=True,\n",
       "                   intercept_scaling=1, l1_ratio=None, max_iter=100,\n",
       "                   multi_class='auto', n_jobs=None, penalty='l2',\n",
       "                   random_state=None, solver='lbfgs', tol=0.0001, verbose=0,\n",
       "                   warm_start=False)"
      ]
     },
     "execution_count": 11,
     "metadata": {
      "tags": []
     },
     "output_type": "execute_result"
    }
   ],
   "source": [
    "# Logistic Regression\n",
    "model_LR = LogisticRegression()\n",
    "model_LR.fit(X_train, y_train)"
   ]
  },
  {
   "cell_type": "markdown",
   "metadata": {
    "id": "-QY4Afi8Aksc"
   },
   "source": [
    "# 모델 사용해보고 평가하기"
   ]
  },
  {
   "cell_type": "code",
   "execution_count": null,
   "metadata": {
    "colab": {
     "base_uri": "https://localhost:8080/"
    },
    "executionInfo": {
     "elapsed": 295,
     "status": "ok",
     "timestamp": 1626317471356,
     "user": {
      "displayName": "YouJeong Lee",
      "photoUrl": "",
      "userId": "11868665778938818692"
     },
     "user_tz": -540
    },
    "id": "EESB6KyZAF-9",
    "outputId": "25f64898-e37b-416b-a4c0-9145aa3b2240"
   },
   "outputs": [
    {
     "name": "stdout",
     "output_type": "stream",
     "text": [
      "              precision    recall  f1-score   support\n",
      "\n",
      "           0       0.91      1.00      0.95        10\n",
      "           1       1.00      0.82      0.90        17\n",
      "           2       0.82      1.00      0.90         9\n",
      "\n",
      "    accuracy                           0.92        36\n",
      "   macro avg       0.91      0.94      0.92        36\n",
      "weighted avg       0.93      0.92      0.92        36\n",
      "\n"
     ]
    }
   ],
   "source": [
    "# Decision Tree\n",
    "y_pred = model_tree.predict(X_test)\n",
    "print(classification_report(y_pred, y_test))"
   ]
  },
  {
   "cell_type": "code",
   "execution_count": null,
   "metadata": {
    "colab": {
     "base_uri": "https://localhost:8080/"
    },
    "executionInfo": {
     "elapsed": 282,
     "status": "ok",
     "timestamp": 1626317475383,
     "user": {
      "displayName": "YouJeong Lee",
      "photoUrl": "",
      "userId": "11868665778938818692"
     },
     "user_tz": -540
    },
    "id": "uVyKyFX7AF8e",
    "outputId": "3282ceed-fd94-4059-b94f-e6ccfa0a8199"
   },
   "outputs": [
    {
     "name": "stdout",
     "output_type": "stream",
     "text": [
      "              precision    recall  f1-score   support\n",
      "\n",
      "           0       1.00      1.00      1.00        11\n",
      "           1       1.00      1.00      1.00        14\n",
      "           2       1.00      1.00      1.00        11\n",
      "\n",
      "    accuracy                           1.00        36\n",
      "   macro avg       1.00      1.00      1.00        36\n",
      "weighted avg       1.00      1.00      1.00        36\n",
      "\n"
     ]
    }
   ],
   "source": [
    "# Random Forest\n",
    "y_pred = model_random_forest.predict(X_test)\n",
    "print(classification_report(y_pred, y_test))"
   ]
  },
  {
   "cell_type": "code",
   "execution_count": null,
   "metadata": {
    "colab": {
     "base_uri": "https://localhost:8080/"
    },
    "executionInfo": {
     "elapsed": 295,
     "status": "ok",
     "timestamp": 1626317478905,
     "user": {
      "displayName": "YouJeong Lee",
      "photoUrl": "",
      "userId": "11868665778938818692"
     },
     "user_tz": -540
    },
    "id": "AFVhdF74AF6N",
    "outputId": "4991a23c-7961-4866-84bd-8ee41b60a4be"
   },
   "outputs": [
    {
     "name": "stdout",
     "output_type": "stream",
     "text": [
      "              precision    recall  f1-score   support\n",
      "\n",
      "           0       0.82      0.90      0.86        10\n",
      "           1       0.79      0.58      0.67        19\n",
      "           2       0.27      0.43      0.33         7\n",
      "\n",
      "    accuracy                           0.64        36\n",
      "   macro avg       0.63      0.64      0.62        36\n",
      "weighted avg       0.69      0.64      0.65        36\n",
      "\n"
     ]
    }
   ],
   "source": [
    "# SVM\n",
    "y_pred = model_svc.predict(X_test)\n",
    "print(classification_report(y_pred, y_test))"
   ]
  },
  {
   "cell_type": "code",
   "execution_count": null,
   "metadata": {
    "colab": {
     "base_uri": "https://localhost:8080/"
    },
    "executionInfo": {
     "elapsed": 296,
     "status": "ok",
     "timestamp": 1626317483347,
     "user": {
      "displayName": "YouJeong Lee",
      "photoUrl": "",
      "userId": "11868665778938818692"
     },
     "user_tz": -540
    },
    "id": "FrMtiL-qAF4N",
    "outputId": "f6e28e77-0214-43bd-eb67-ff219f7d5549"
   },
   "outputs": [
    {
     "name": "stdout",
     "output_type": "stream",
     "text": [
      "              precision    recall  f1-score   support\n",
      "\n",
      "           0       0.82      0.69      0.75        13\n",
      "           1       0.00      0.00      0.00         0\n",
      "           2       0.91      0.43      0.59        23\n",
      "\n",
      "    accuracy                           0.53        36\n",
      "   macro avg       0.58      0.38      0.45        36\n",
      "weighted avg       0.88      0.53      0.65        36\n",
      "\n"
     ]
    },
    {
     "name": "stderr",
     "output_type": "stream",
     "text": [
      "/usr/local/lib/python3.7/dist-packages/sklearn/metrics/_classification.py:1272: UndefinedMetricWarning: Recall and F-score are ill-defined and being set to 0.0 in labels with no true samples. Use `zero_division` parameter to control this behavior.\n",
      "  _warn_prf(average, modifier, msg_start, len(result))\n"
     ]
    }
   ],
   "source": [
    "# SGD\n",
    "y_pred = model_sgd.predict(X_test)\n",
    "print(classification_report(y_pred, y_test))"
   ]
  },
  {
   "cell_type": "code",
   "execution_count": null,
   "metadata": {
    "colab": {
     "base_uri": "https://localhost:8080/"
    },
    "executionInfo": {
     "elapsed": 295,
     "status": "ok",
     "timestamp": 1626317487818,
     "user": {
      "displayName": "YouJeong Lee",
      "photoUrl": "",
      "userId": "11868665778938818692"
     },
     "user_tz": -540
    },
    "id": "seJs4cjoAF1Z",
    "outputId": "3aee700a-b336-4672-805d-289e2df3bf78"
   },
   "outputs": [
    {
     "name": "stdout",
     "output_type": "stream",
     "text": [
      "              precision    recall  f1-score   support\n",
      "\n",
      "           0       1.00      0.92      0.96        12\n",
      "           1       0.93      0.87      0.90        15\n",
      "           2       0.82      1.00      0.90         9\n",
      "\n",
      "    accuracy                           0.92        36\n",
      "   macro avg       0.92      0.93      0.92        36\n",
      "weighted avg       0.92      0.92      0.92        36\n",
      "\n"
     ]
    }
   ],
   "source": [
    "# Logistic Regression\n",
    "y_pred = model_LR.predict(X_test)\n",
    "print(classification_report(y_pred, y_test))"
   ]
  },
  {
   "cell_type": "markdown",
   "metadata": {
    "id": "nJDPA1sLBpEQ"
   },
   "source": [
    "Logistic Regression을 사용한다.\n",
    "처음애는 Decision tree를 사용하려 했지만 overfitting(100%가 나옴)는 경우가 Logistic Regression보다 1가지 더 많았다.\n",
    "accuracy도 비슷하며, 좀 더 안정적으로 나오는 수치를 택해서 Logistic Regression을 택했다."
   ]
  },
  {
   "cell_type": "code",
   "execution_count": null,
   "metadata": {
    "id": "VTPD-_GMAFyu"
   },
   "outputs": [],
   "source": []
  },
  {
   "cell_type": "code",
   "execution_count": null,
   "metadata": {
    "id": "17mXPZlzAFnH"
   },
   "outputs": [],
   "source": []
  },
  {
   "cell_type": "code",
   "execution_count": null,
   "metadata": {
    "id": "bQZFuHRLAFaT"
   },
   "outputs": [],
   "source": []
  }
 ],
 "metadata": {
  "colab": {
   "authorship_tag": "ABX9TyOJXjlPISUnK+mAZv81VIL3",
   "collapsed_sections": [
    "qiaguHHi9kLZ"
   ],
   "name": "load_wine.ipynb",
   "provenance": []
  },
  "kernelspec": {
   "display_name": "Python 3",
   "language": "python",
   "name": "python3"
  },
  "language_info": {
   "codemirror_mode": {
    "name": "ipython",
    "version": 3
   },
   "file_extension": ".py",
   "mimetype": "text/x-python",
   "name": "python",
   "nbconvert_exporter": "python",
   "pygments_lexer": "ipython3",
   "version": "3.7.6"
  }
 },
 "nbformat": 4,
 "nbformat_minor": 1
}
