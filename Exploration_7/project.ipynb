{
 "cells": [
  {
   "cell_type": "markdown",
   "id": "incorporated-vacation",
   "metadata": {},
   "source": [
    "# 프로젝트: 네이버 영화리뷰 감성분석 도전하기"
   ]
  },
  {
   "cell_type": "markdown",
   "id": "vocational-prospect",
   "metadata": {},
   "source": [
    "##  데이터 준비와 확인"
   ]
  },
  {
   "cell_type": "code",
   "execution_count": 2,
   "id": "sixth-malpractice",
   "metadata": {},
   "outputs": [
    {
     "data": {
      "text/html": [
       "<div>\n",
       "<style scoped>\n",
       "    .dataframe tbody tr th:only-of-type {\n",
       "        vertical-align: middle;\n",
       "    }\n",
       "\n",
       "    .dataframe tbody tr th {\n",
       "        vertical-align: top;\n",
       "    }\n",
       "\n",
       "    .dataframe thead th {\n",
       "        text-align: right;\n",
       "    }\n",
       "</style>\n",
       "<table border=\"1\" class=\"dataframe\">\n",
       "  <thead>\n",
       "    <tr style=\"text-align: right;\">\n",
       "      <th></th>\n",
       "      <th>id</th>\n",
       "      <th>document</th>\n",
       "      <th>label</th>\n",
       "    </tr>\n",
       "  </thead>\n",
       "  <tbody>\n",
       "    <tr>\n",
       "      <th>0</th>\n",
       "      <td>9976970</td>\n",
       "      <td>아 더빙.. 진짜 짜증나네요 목소리</td>\n",
       "      <td>0</td>\n",
       "    </tr>\n",
       "    <tr>\n",
       "      <th>1</th>\n",
       "      <td>3819312</td>\n",
       "      <td>흠...포스터보고 초딩영화줄....오버연기조차 가볍지 않구나</td>\n",
       "      <td>1</td>\n",
       "    </tr>\n",
       "    <tr>\n",
       "      <th>2</th>\n",
       "      <td>10265843</td>\n",
       "      <td>너무재밓었다그래서보는것을추천한다</td>\n",
       "      <td>0</td>\n",
       "    </tr>\n",
       "    <tr>\n",
       "      <th>3</th>\n",
       "      <td>9045019</td>\n",
       "      <td>교도소 이야기구먼 ..솔직히 재미는 없다..평점 조정</td>\n",
       "      <td>0</td>\n",
       "    </tr>\n",
       "    <tr>\n",
       "      <th>4</th>\n",
       "      <td>6483659</td>\n",
       "      <td>사이몬페그의 익살스런 연기가 돋보였던 영화!스파이더맨에서 늙어보이기만 했던 커스틴 ...</td>\n",
       "      <td>1</td>\n",
       "    </tr>\n",
       "  </tbody>\n",
       "</table>\n",
       "</div>"
      ],
      "text/plain": [
       "         id                                           document  label\n",
       "0   9976970                                아 더빙.. 진짜 짜증나네요 목소리      0\n",
       "1   3819312                  흠...포스터보고 초딩영화줄....오버연기조차 가볍지 않구나      1\n",
       "2  10265843                                  너무재밓었다그래서보는것을추천한다      0\n",
       "3   9045019                      교도소 이야기구먼 ..솔직히 재미는 없다..평점 조정      0\n",
       "4   6483659  사이몬페그의 익살스런 연기가 돋보였던 영화!스파이더맨에서 늙어보이기만 했던 커스틴 ...      1"
      ]
     },
     "execution_count": 2,
     "metadata": {},
     "output_type": "execute_result"
    }
   ],
   "source": [
    "import pandas as pd\n",
    "import urllib.request\n",
    "%matplotlib inline\n",
    "import matplotlib.pyplot as plt\n",
    "import re\n",
    "from konlpy.tag import Okt\n",
    "from tensorflow import keras\n",
    "from tensorflow.keras.preprocessing.text import Tokenizer\n",
    "import numpy as np\n",
    "from tensorflow.keras.preprocessing.sequence import pad_sequences\n",
    "from collections import Counter\n",
    "\n",
    "# 데이터를 읽어온다. \n",
    "train_data = pd.read_table('~/aiffel/sentiment_classification/data/ratings_train.txt')\n",
    "test_data = pd.read_table('~/aiffel/sentiment_classification/data/ratings_test.txt')\n",
    "\n",
    "train_data.head()"
   ]
  },
  {
   "cell_type": "markdown",
   "id": "collected-chair",
   "metadata": {},
   "source": [
    "## 데이터로더 구성\n",
    "\n",
    "IMDB 데이터셋은 텍스트를 가공하여 `imdb.data_loader()` 메소드를 호출하면 숫자 인덱스로 변환된 텍스트와 word_to_index 딕셔너리까지 제공된다.   \n",
    "그러나 이번에 다루게 될 `nsmc` 데이터셋은 전혀 가공되지 않은 텍스트 파일로 이루어져 있으며, 이것을 읽어서 `imdb.data_loader()`와 동일하게 동작하는 자신만의 `data_loader`를 만들어 본다. `data_loader` 안에서는 다음을 수행하게 된다."
   ]
  },
  {
   "cell_type": "markdown",
   "id": "geographic-absorption",
   "metadata": {},
   "source": [
    "- 데이터의 중복 제거\n",
    "- NaN 결측치 제거\n",
    "- 한국어 토크나이저로 토큰화\n",
    "- 불용어(Stopwords) 제거\n",
    "- 사전 word_to_index 구성\n",
    "- 텍스트 스트링을 사전 인덱스 스트링으로 변환\n",
    "- `X_train`, `y_train`, `X_test`, `y_test`, `word_to_index` 리턴\n"
   ]
  },
  {
   "cell_type": "code",
   "execution_count": 4,
   "id": "proof-cherry",
   "metadata": {},
   "outputs": [],
   "source": [
    "from konlpy.tag import Mecab\n",
    "tokenizer = Mecab()\n",
    "stopwords = ['의','가','이','은','들','는','좀','잘','걍','과','도','를','으로','자','에','와','한','하다']\n",
    "\n",
    "def load_data(train_data, test_data, num_words=10000):\n",
    "    train_data.drop_duplicates(subset=['document'], inplace=True)\n",
    "    train_data = train_data.dropna(how = 'any') \n",
    "    test_data.drop_duplicates(subset=['document'], inplace=True)\n",
    "    test_data = test_data.dropna(how = 'any') \n",
    "    \n",
    "    X_train = []\n",
    "    for sentence in train_data['document']:\n",
    "        temp_X = tokenizer.morphs(sentence) # 토큰화\n",
    "        temp_X = [word for word in temp_X if not word in stopwords] # 불용어 제거\n",
    "        X_train.append(temp_X)\n",
    "\n",
    "    X_test = []\n",
    "    for sentence in test_data['document']:\n",
    "        temp_X = tokenizer.morphs(sentence) # 토큰화\n",
    "        temp_X = [word for word in temp_X if not word in stopwords] # 불용어 제거\n",
    "        X_test.append(temp_X)\n",
    "    \n",
    "    words = np.concatenate(X_train).tolist()\n",
    "    counter = Counter(words)\n",
    "    counter = counter.most_common(10000-4)\n",
    "    vocab = ['', '', '', ''] + [key for key, _ in counter]\n",
    "    word_to_index = {word:index for index, word in enumerate(vocab)}\n",
    "        \n",
    "    def wordlist_to_indexlist(wordlist):\n",
    "        return [word_to_index[word] if word in word_to_index else word_to_index[''] for word in wordlist]\n",
    "        \n",
    "    X_train = list(map(wordlist_to_indexlist, X_train))\n",
    "    X_test = list(map(wordlist_to_indexlist, X_test))\n",
    "        \n",
    "    return X_train, np.array(list(train_data['label'])), X_test, np.array(list(test_data['label'])), word_to_index\n",
    "    \n",
    "X_train, y_train, X_test, y_test, word_to_index = load_data(train_data, test_data)"
   ]
  },
  {
   "cell_type": "code",
   "execution_count": 5,
   "id": "technical-ozone",
   "metadata": {},
   "outputs": [],
   "source": [
    "#실제 인코딩 인덱스는 제공된 word_to_index에서 index 기준으로 3씩 뒤로 밀려 있습니다.  \n",
    "word_to_index = {k:(v+3) for k,v in word_to_index.items()}\n",
    "\n",
    "# 처음 몇 개 인덱스는 사전에 정의되어 있습니다\n",
    "word_to_index[\"<PAD>\"] = 0\n",
    "word_to_index[\"<BOS>\"] = 1\n",
    "word_to_index[\"<UNK>\"] = 2  # unknown\n",
    "word_to_index[\"<UNUSED>\"] = 3\n",
    "\n",
    "index_to_word = {index:word for word, index in word_to_index.items()}\n",
    "\n",
    "index_to_word[0] = \"<PAD>\"\n",
    "index_to_word[1] = \"<BOS>\"\n",
    "index_to_word[2] = \"<UNK>\"\n",
    "index_to_word[3] = \"<UNUSED>\""
   ]
  },
  {
   "cell_type": "code",
   "execution_count": 6,
   "id": "wireless-insert",
   "metadata": {},
   "outputs": [],
   "source": [
    "# 문장 1개를 활용할 딕셔너리와 함께 주면, 단어 인덱스 리스트 벡터로 변환해 주는 함수\n",
    "# 단, 모든 문장은 <BOS>로 시작한다. \n",
    "def get_encoded_sentence(sentence, word_to_index):\n",
    "    return [word_to_index['<BOS>']]+[word_to_index[word] if word in word_to_index else word_to_index['<UNK>'] for word in sentence.split()]\n",
    "\n",
    "# 여러 개의 문장 리스트를 한꺼번에 단어 인덱스 리스트 벡터로 encode해 주는 함수 \n",
    "def get_encoded_sentences(sentences, word_to_index):\n",
    "    return [get_encoded_sentence(sentence, word_to_index) for sentence in sentences]\n",
    "\n",
    "# 숫자 벡터로 encode된 문장을 원래대로 decode하는 함수\n",
    "def get_decoded_sentence(encoded_sentence, index_to_word):\n",
    "    return ' '.join(index_to_word[index] if index in index_to_word else '<UNK>' for index in encoded_sentence[1:])  #[1:]를 통해 <BOS>를 제외\n",
    "\n",
    "# 여러 개의 숫자 벡터로 encode된 문장을 한꺼번에 원래대로 decode하는 함수\n",
    "def get_decoded_sentences(encoded_sentences, index_to_word):\n",
    "    return [get_decoded_sentence(encoded_sentence, index_to_word) for encoded_sentence in encoded_sentences]"
   ]
  },
  {
   "cell_type": "markdown",
   "id": "small-sydney",
   "metadata": {},
   "source": [
    "## 모델구성을 위한 데이터 분석 및 가공\n",
    "- 데이터셋 내 문장 길이 분포\n",
    "- 적절한 최대 문장 길이 지정\n",
    "- `keras.preprocessing.sequence.pad_sequences` 을 활용한 패딩 추가\n",
    "\n"
   ]
  },
  {
   "cell_type": "code",
   "execution_count": 7,
   "id": "danish-minimum",
   "metadata": {},
   "outputs": [
    {
     "name": "stdout",
     "output_type": "stream",
     "text": [
      "문장길이 평균 :  15.96940191154864\n",
      "문장길이 최대 :  116\n",
      "문장길이 표준편차 :  12.843571191092\n",
      "pad_sequences maxlen :  41\n",
      "전체 문장의 0.9342988343341575%가 maxlen 설정값 이내에 포함됩니다. \n"
     ]
    }
   ],
   "source": [
    "total_data_text = list(X_train) + list(X_test)\n",
    "# 텍스트데이터 문장길이의 리스트를 생성한 후\n",
    "num_tokens = [len(tokens) for tokens in total_data_text]\n",
    "num_tokens = np.array(num_tokens)\n",
    "# 문장길이의 평균값, 최대값, 표준편차를 계산해 본다. \n",
    "print('문장길이 평균 : ', np.mean(num_tokens))\n",
    "print('문장길이 최대 : ', np.max(num_tokens))\n",
    "print('문장길이 표준편차 : ', np.std(num_tokens))\n",
    "\n",
    "# 예를들어, 최대 길이를 (평균 + 2*표준편차)로 한다면,  \n",
    "max_tokens = np.mean(num_tokens) + 2 * np.std(num_tokens)\n",
    "maxlen = int(max_tokens)\n",
    "print('pad_sequences maxlen : ', maxlen)\n",
    "print('전체 문장의 {}%가 maxlen 설정값 이내에 포함됩니다. '.format(np.sum(num_tokens < max_tokens) / len(num_tokens)))"
   ]
  },
  {
   "cell_type": "code",
   "execution_count": 8,
   "id": "limiting-jurisdiction",
   "metadata": {},
   "outputs": [
    {
     "name": "stdout",
     "output_type": "stream",
     "text": [
      "(146182, 41)\n"
     ]
    }
   ],
   "source": [
    "X_train = keras.preprocessing.sequence.pad_sequences(X_train,\n",
    "                                                        value=word_to_index[\"<PAD>\"],\n",
    "                                                        padding='pre', # 혹은 'pre'\n",
    "                                                        maxlen=maxlen)\n",
    "\n",
    "X_test = keras.preprocessing.sequence.pad_sequences(X_test,\n",
    "                                                       value=word_to_index[\"<PAD>\"],\n",
    "                                                       padding='pre', # 혹은 'pre'\n",
    "                                                       maxlen=maxlen)\n",
    "\n",
    "print(X_train.shape)"
   ]
  },
  {
   "cell_type": "markdown",
   "id": "center-colony",
   "metadata": {},
   "source": [
    "## 모델구성 및 validation set 구성\n",
    "모델은 3가지 이상 다양하게 구성하여 실험"
   ]
  },
  {
   "cell_type": "markdown",
   "id": "intellectual-clause",
   "metadata": {},
   "source": [
    "### 1) RNN 모델"
   ]
  },
  {
   "cell_type": "code",
   "execution_count": 9,
   "id": "scenic-cursor",
   "metadata": {},
   "outputs": [
    {
     "name": "stdout",
     "output_type": "stream",
     "text": [
      "Model: \"sequential\"\n",
      "_________________________________________________________________\n",
      "Layer (type)                 Output Shape              Param #   \n",
      "=================================================================\n",
      "embedding (Embedding)        (None, None, 16)          160000    \n",
      "_________________________________________________________________\n",
      "lstm (LSTM)                  (None, 8)                 800       \n",
      "_________________________________________________________________\n",
      "dense (Dense)                (None, 8)                 72        \n",
      "_________________________________________________________________\n",
      "dense_1 (Dense)              (None, 1)                 9         \n",
      "=================================================================\n",
      "Total params: 160,881\n",
      "Trainable params: 160,881\n",
      "Non-trainable params: 0\n",
      "_________________________________________________________________\n"
     ]
    }
   ],
   "source": [
    "vocab_size = 10000    # 어휘 사전의 크기입니다(10,000개의 단어)\n",
    "word_vector_dim = 16  # 워드 벡터의 차원 수 (변경 가능한 하이퍼파라미터)\n",
    "\n",
    "# model 설계 - 딥러닝 모델 코드를 직접 작성해 주세요.\n",
    "model = keras.Sequential()\n",
    "# [[YOUR CODE]]\n",
    "model.add(keras.layers.Embedding(vocab_size, word_vector_dim, input_shape=(None,)))\n",
    "model.add(keras.layers.LSTM(8))   # 가장 널리 쓰이는 RNN인 LSTM 레이어를 사용하였습니다. 이때 LSTM state 벡터의 차원수는 8로 하였습니다. (변경 가능)\n",
    "model.add(keras.layers.Dense(8, activation='relu'))\n",
    "model.add(keras.layers.Dense(1, activation='sigmoid'))  # 최종 출력은 긍정/부정을 나타내는 1dim 입니다.\n",
    "\n",
    "\n",
    "model.summary()"
   ]
  },
  {
   "cell_type": "code",
   "execution_count": 10,
   "id": "eligible-scratch",
   "metadata": {},
   "outputs": [
    {
     "name": "stdout",
     "output_type": "stream",
     "text": [
      "(136182, 41)\n",
      "(136182,)\n"
     ]
    }
   ],
   "source": [
    "# validation set 10000건 분리\n",
    "x_val = X_train[:10000]   \n",
    "y_val = y_train[:10000]\n",
    "\n",
    "# validation set을 제외한 나머지 15000건\n",
    "partial_X_train = X_train[10000:]  \n",
    "partial_y_train = y_train[10000:]\n",
    "\n",
    "print(partial_X_train.shape)\n",
    "print(partial_y_train.shape)"
   ]
  },
  {
   "cell_type": "markdown",
   "id": "decimal-disco",
   "metadata": {},
   "source": [
    "### 2) CNN 모델 - Conv1D"
   ]
  },
  {
   "cell_type": "code",
   "execution_count": 27,
   "id": "greater-apparel",
   "metadata": {},
   "outputs": [
    {
     "name": "stdout",
     "output_type": "stream",
     "text": [
      "Model: \"sequential_1\"\n",
      "_________________________________________________________________\n",
      "Layer (type)                 Output Shape              Param #   \n",
      "=================================================================\n",
      "embedding_1 (Embedding)      (None, None, 16)          160000    \n",
      "_________________________________________________________________\n",
      "conv1d (Conv1D)              (None, None, 16)          1808      \n",
      "_________________________________________________________________\n",
      "max_pooling1d (MaxPooling1D) (None, None, 16)          0         \n",
      "_________________________________________________________________\n",
      "conv1d_1 (Conv1D)            (None, None, 16)          1808      \n",
      "_________________________________________________________________\n",
      "global_max_pooling1d (Global (None, 16)                0         \n",
      "_________________________________________________________________\n",
      "dense_2 (Dense)              (None, 8)                 136       \n",
      "_________________________________________________________________\n",
      "dense_3 (Dense)              (None, 1)                 9         \n",
      "=================================================================\n",
      "Total params: 163,761\n",
      "Trainable params: 163,761\n",
      "Non-trainable params: 0\n",
      "_________________________________________________________________\n"
     ]
    }
   ],
   "source": [
    "vocab_size = 10000  # 어휘 사전의 크기입니다(10개의 단어)\n",
    "word_vector_dim = 16   # 단어 하나를 표현하는 임베딩 벡터의 차원 수입니다. \n",
    "\n",
    "model = keras.Sequential()\n",
    "model.add(keras.layers.Embedding(vocab_size, word_vector_dim, input_shape=(None,)))\n",
    "model.add(keras.layers.Conv1D(16, 7, activation='relu'))\n",
    "model.add(keras.layers.MaxPooling1D(5))\n",
    "model.add(keras.layers.Conv1D(16, 7, activation='relu'))\n",
    "model.add(keras.layers.GlobalMaxPooling1D())\n",
    "model.add(keras.layers.Dense(8, activation='relu'))\n",
    "model.add(keras.layers.Dense(1, activation='sigmoid'))  # 최종 출력은 긍정/부정을 나타내는 1dim 입니다.\n",
    "\n",
    "model.summary()"
   ]
  },
  {
   "cell_type": "code",
   "execution_count": 28,
   "id": "fifteen-sessions",
   "metadata": {},
   "outputs": [
    {
     "name": "stdout",
     "output_type": "stream",
     "text": [
      "(136182, 41)\n",
      "(136182,)\n"
     ]
    }
   ],
   "source": [
    "# validation set 10000건 분리\n",
    "x_val = X_train[:10000]   \n",
    "y_val = y_train[:10000]\n",
    "\n",
    "# validation set을 제외한 나머지 15000건\n",
    "partial_X_train = X_train[10000:]  \n",
    "partial_y_train = y_train[10000:]\n",
    "\n",
    "print(partial_X_train.shape)\n",
    "print(partial_y_train.shape)"
   ]
  },
  {
   "cell_type": "markdown",
   "id": "widespread-diagnosis",
   "metadata": {},
   "source": [
    "### 3) CNN 모델 - GlobalMaxPooling"
   ]
  },
  {
   "cell_type": "code",
   "execution_count": 36,
   "id": "sought-discrimination",
   "metadata": {},
   "outputs": [
    {
     "name": "stdout",
     "output_type": "stream",
     "text": [
      "Model: \"sequential_2\"\n",
      "_________________________________________________________________\n",
      "Layer (type)                 Output Shape              Param #   \n",
      "=================================================================\n",
      "embedding_2 (Embedding)      (None, None, 16)          160000    \n",
      "_________________________________________________________________\n",
      "global_max_pooling1d_1 (Glob (None, 16)                0         \n",
      "_________________________________________________________________\n",
      "dense_4 (Dense)              (None, 8)                 136       \n",
      "_________________________________________________________________\n",
      "dense_5 (Dense)              (None, 1)                 9         \n",
      "=================================================================\n",
      "Total params: 160,145\n",
      "Trainable params: 160,145\n",
      "Non-trainable params: 0\n",
      "_________________________________________________________________\n"
     ]
    }
   ],
   "source": [
    "vocab_size = 10000 # 어휘 사전의 크기입니다(10개의 단어)\n",
    "word_vector_dim = 16   # 단어 하나를 표현하는 임베딩 벡터의 차원 수입니다. \n",
    "\n",
    "model = keras.Sequential()\n",
    "model.add(keras.layers.Embedding(vocab_size, word_vector_dim, input_shape=(None,)))\n",
    "model.add(keras.layers.GlobalMaxPooling1D())\n",
    "model.add(keras.layers.Dense(8, activation='relu'))\n",
    "model.add(keras.layers.Dense(1, activation='sigmoid'))  # 최종 출력은 긍정/부정을 나타내는 1dim 입니다.\n",
    "\n",
    "model.summary()"
   ]
  },
  {
   "cell_type": "code",
   "execution_count": 37,
   "id": "double-trace",
   "metadata": {},
   "outputs": [
    {
     "name": "stdout",
     "output_type": "stream",
     "text": [
      "(136182, 41)\n",
      "(136182,)\n"
     ]
    }
   ],
   "source": [
    "# validation set 10000건 분리\n",
    "x_val = X_train[:10000]   \n",
    "y_val = y_train[:10000]\n",
    "\n",
    "# validation set을 제외한 나머지 15000건\n",
    "partial_X_train = X_train[10000:]  \n",
    "partial_y_train = y_train[10000:]\n",
    "\n",
    "print(partial_X_train.shape)\n",
    "print(partial_y_train.shape)"
   ]
  },
  {
   "cell_type": "markdown",
   "id": "working-explanation",
   "metadata": {},
   "source": [
    "## 모델 훈련 개시"
   ]
  },
  {
   "cell_type": "code",
   "execution_count": 11,
   "id": "listed-voluntary",
   "metadata": {},
   "outputs": [
    {
     "name": "stdout",
     "output_type": "stream",
     "text": [
      "Epoch 1/20\n",
      "266/266 [==============================] - 6s 11ms/step - loss: 0.6000 - accuracy: 0.6987 - val_loss: 0.3596 - val_accuracy: 0.8476\n",
      "Epoch 2/20\n",
      "266/266 [==============================] - 3s 10ms/step - loss: 0.3432 - accuracy: 0.8573 - val_loss: 0.3405 - val_accuracy: 0.8520\n",
      "Epoch 3/20\n",
      "266/266 [==============================] - 3s 10ms/step - loss: 0.3134 - accuracy: 0.8697 - val_loss: 0.3390 - val_accuracy: 0.8526\n",
      "Epoch 4/20\n",
      "266/266 [==============================] - 3s 10ms/step - loss: 0.3011 - accuracy: 0.8755 - val_loss: 0.3382 - val_accuracy: 0.8530\n",
      "Epoch 5/20\n",
      "266/266 [==============================] - 3s 10ms/step - loss: 0.2913 - accuracy: 0.8804 - val_loss: 0.3381 - val_accuracy: 0.8546\n",
      "Epoch 6/20\n",
      "266/266 [==============================] - 3s 10ms/step - loss: 0.2837 - accuracy: 0.8833 - val_loss: 0.3387 - val_accuracy: 0.8538\n",
      "Epoch 7/20\n",
      "266/266 [==============================] - 3s 10ms/step - loss: 0.2751 - accuracy: 0.8873 - val_loss: 0.3401 - val_accuracy: 0.8538\n",
      "Epoch 8/20\n",
      "266/266 [==============================] - 3s 10ms/step - loss: 0.2691 - accuracy: 0.8886 - val_loss: 0.3449 - val_accuracy: 0.8516\n",
      "Epoch 9/20\n",
      "266/266 [==============================] - 3s 10ms/step - loss: 0.2598 - accuracy: 0.8932 - val_loss: 0.3457 - val_accuracy: 0.8542\n",
      "Epoch 10/20\n",
      "266/266 [==============================] - 3s 10ms/step - loss: 0.2530 - accuracy: 0.8956 - val_loss: 0.3538 - val_accuracy: 0.8509\n",
      "Epoch 11/20\n",
      "266/266 [==============================] - 3s 10ms/step - loss: 0.2389 - accuracy: 0.9021 - val_loss: 0.3602 - val_accuracy: 0.8525\n",
      "Epoch 12/20\n",
      "266/266 [==============================] - 3s 10ms/step - loss: 0.2316 - accuracy: 0.9039 - val_loss: 0.3740 - val_accuracy: 0.8519\n",
      "Epoch 13/20\n",
      "266/266 [==============================] - 3s 10ms/step - loss: 0.2249 - accuracy: 0.9060 - val_loss: 0.3828 - val_accuracy: 0.8493\n",
      "Epoch 14/20\n",
      "266/266 [==============================] - 3s 10ms/step - loss: 0.2181 - accuracy: 0.9094 - val_loss: 0.4020 - val_accuracy: 0.8488\n",
      "Epoch 15/20\n",
      "266/266 [==============================] - 3s 10ms/step - loss: 0.2092 - accuracy: 0.9134 - val_loss: 0.4174 - val_accuracy: 0.8486\n",
      "Epoch 16/20\n",
      "266/266 [==============================] - 3s 10ms/step - loss: 0.2045 - accuracy: 0.9147 - val_loss: 0.4169 - val_accuracy: 0.8461\n",
      "Epoch 17/20\n",
      "266/266 [==============================] - 3s 10ms/step - loss: 0.2004 - accuracy: 0.9173 - val_loss: 0.4365 - val_accuracy: 0.8453\n",
      "Epoch 18/20\n",
      "266/266 [==============================] - 3s 10ms/step - loss: 0.1928 - accuracy: 0.9211 - val_loss: 0.4563 - val_accuracy: 0.8436\n",
      "Epoch 19/20\n",
      "266/266 [==============================] - 3s 10ms/step - loss: 0.1863 - accuracy: 0.9236 - val_loss: 0.4777 - val_accuracy: 0.8441\n",
      "Epoch 20/20\n",
      "266/266 [==============================] - 3s 10ms/step - loss: 0.1821 - accuracy: 0.9247 - val_loss: 0.4744 - val_accuracy: 0.8444\n"
     ]
    }
   ],
   "source": [
    "model.compile(optimizer='adam',\n",
    "              loss='binary_crossentropy',\n",
    "              metrics=['accuracy'])\n",
    "              \n",
    "epochs=20  # 몇 epoch를 훈련하면 좋을지 결과를 보면서 바꾸어 봅시다. \n",
    "\n",
    "history = model.fit(partial_X_train,\n",
    "                    partial_y_train,\n",
    "                    epochs=epochs,\n",
    "                    batch_size=512,\n",
    "                    validation_data=(x_val, y_val),\n",
    "                    verbose=1)"
   ]
  },
  {
   "cell_type": "code",
   "execution_count": 12,
   "id": "nervous-penguin",
   "metadata": {},
   "outputs": [],
   "source": [
    "history_dict = history.history"
   ]
  },
  {
   "cell_type": "code",
   "execution_count": 13,
   "id": "emerging-making",
   "metadata": {},
   "outputs": [
    {
     "name": "stdout",
     "output_type": "stream",
     "text": [
      "1537/1537 - 5s - loss: 0.4706 - accuracy: 0.8431\n",
      "[0.47060033679008484, 0.8430742025375366]\n"
     ]
    }
   ],
   "source": [
    "results = model.evaluate(X_test,  y_test, verbose=2)\n",
    "\n",
    "print(results)"
   ]
  },
  {
   "cell_type": "markdown",
   "id": "particular-arnold",
   "metadata": {},
   "source": [
    "## Loss, Accuracy 그래프 시각화"
   ]
  },
  {
   "cell_type": "markdown",
   "id": "convenient-breathing",
   "metadata": {},
   "source": [
    "## RNN 모델로 학습시켰을 때"
   ]
  },
  {
   "cell_type": "markdown",
   "id": "chicken-frederick",
   "metadata": {},
   "source": [
    "1537/1537 - 5s - loss: 0.5025 - accuracy: 0.8382   \n",
    "[0.47060033679008484, 0.8430742025375366]"
   ]
  },
  {
   "attachments": {
    "image.png": {
     "image/png": "[encoded data removed]"
    }
   },
   "cell_type": "markdown",
   "id": "engaged-basket",
   "metadata": {},
   "source": [
    "#### Loss\n",
    "![image.png](attachment:image.png)"
   ]
  },
  {
   "attachments": {
    "image.png": {
     "image/png": "[encoded data removed]"
    }
   },
   "cell_type": "markdown",
   "id": "western-springer",
   "metadata": {},
   "source": [
    "#### Accuracy\n",
    "![image.png](attachment:image.png)"
   ]
  },
  {
   "cell_type": "markdown",
   "id": "polished-satin",
   "metadata": {},
   "source": [
    "RNN모델로 학습시켰을 때,    \n",
    "Validation loss는 epoch횟수가 증가할수록 높아지며 Training loss는 떨어지는 경향이 보인다.\n",
    "Validation acc는 epoch횟수가 증가해도 소폭으로 Accuracy가 떨어지며, Training acc는 증가하는 경향을 보인다."
   ]
  },
  {
   "cell_type": "markdown",
   "id": "copyrighted-central",
   "metadata": {},
   "source": [
    "## CNN모델 - Conv1D 로 학습시켰을 때\n"
   ]
  },
  {
   "cell_type": "markdown",
   "id": "musical-translator",
   "metadata": {},
   "source": [
    "1537/1537 - 3s - loss: 1.0240 - accuracy: 0.8182   \n",
    "[1.0240081548690796, 0.8181540966033936]"
   ]
  },
  {
   "attachments": {
    "image.png": {
     "image/png": "[encoded data removed]"
    }
   },
   "cell_type": "markdown",
   "id": "naughty-teddy",
   "metadata": {},
   "source": [
    "#### Loss\n",
    "![image.png](attachment:image.png)"
   ]
  },
  {
   "attachments": {
    "image.png": {
     "image/png": "[encoded data removed]"
    }
   },
   "cell_type": "markdown",
   "id": "utility-battlefield",
   "metadata": {},
   "source": [
    "#### Accuracy\n",
    "![image.png](attachment:image.png)"
   ]
  },
  {
   "cell_type": "markdown",
   "id": "automotive-sunday",
   "metadata": {},
   "source": [
    "RNN모델을 사용했을 때 보다 Training 부분의 Loss가 더 빨리 감소하는 것을 볼 수 있으며,    \n",
    "Accuracy 에서의 training acc가 RNN모델보다 점수가 높고 overfitting현상이 일어나는 것을 볼 수 있다."
   ]
  },
  {
   "cell_type": "markdown",
   "id": "aggressive-grenada",
   "metadata": {},
   "source": [
    "## CNN모델 - GlobalMaxPooling로 학습시켰을 때"
   ]
  },
  {
   "cell_type": "markdown",
   "id": "aerial-conspiracy",
   "metadata": {},
   "source": [
    "1537/1537 - 2s - loss: 0.5182 - accuracy: 0.8269   \n",
    "[0.5181829333305359, 0.8269015550613403]"
   ]
  },
  {
   "attachments": {
    "image-2.png": {
     "image/png": "[encoded data removed]"
    }
   },
   "cell_type": "markdown",
   "id": "brutal-sapphire",
   "metadata": {},
   "source": [
    "#### Loss\n",
    "![image-2.png](attachment:image-2.png)"
   ]
  },
  {
   "attachments": {
    "image-2.png": {
     "image/png": "[encoded data removed]"
    }
   },
   "cell_type": "markdown",
   "id": "middle-calculation",
   "metadata": {},
   "source": [
    "#### Accuracy\n",
    "![image-2.png](attachment:image-2.png)"
   ]
  },
  {
   "cell_type": "markdown",
   "id": "familiar-shelter",
   "metadata": {},
   "source": [
    "Loss에서 validation loss가 한번 감소했다가 다시 증가하는 것을 볼 수 있다. 앞에 두 RNN과 CNN과는 다른 현상이다.   \n",
    "Accuracy에서 validation acc가 증가했다가 소~~~~~~폭으로 감소하며 기어가는 것을 볼 수 있다. 이 역시 앞 두모델과는 다른점이다."
   ]
  },
  {
   "cell_type": "markdown",
   "id": "developing-singles",
   "metadata": {},
   "source": [
    "## 학습된 Embedding 레이어 분석"
   ]
  },
  {
   "cell_type": "code",
   "execution_count": 14,
   "id": "yellow-climate",
   "metadata": {},
   "outputs": [
    {
     "name": "stdout",
     "output_type": "stream",
     "text": [
      "(10000, 16)\n"
     ]
    }
   ],
   "source": [
    "embedding_layer = model.layers[0]\n",
    "weights = embedding_layer.get_weights()[0]\n",
    "print(weights.shape)    # shape: (vocab_size, embedding_dim)"
   ]
  },
  {
   "cell_type": "code",
   "execution_count": 15,
   "id": "fifty-cruise",
   "metadata": {},
   "outputs": [],
   "source": [
    "import os\n",
    "\n",
    "# 학습한 Embedding 파라미터를 파일에 써서 저장한다. \n",
    "word2vec_file_path = os.getenv('HOME')+'/aiffel/sentiment_classification/data/word2vec.txt'\n",
    "f = open(word2vec_file_path, 'w')\n",
    "f.write('{} {}\\n'.format(vocab_size-6, word_vector_dim))  # 몇개의 벡터를 얼마 사이즈로 기재할지 타이틀을 쓴다.\n",
    "\n",
    "# 단어 개수(에서 특수문자 4개는 제외하고)만큼의 워드 벡터를 파일에 기록한다.\n",
    "vectors = model.get_weights()[0]\n",
    "for i in range(6, vocab_size):\n",
    "    f.write('{} {}\\n'.format(index_to_word[i], ' '.join(map(str, list(vectors[i, :])))))\n",
    "f.close()"
   ]
  },
  {
   "cell_type": "code",
   "execution_count": 16,
   "id": "quality-flashing",
   "metadata": {},
   "outputs": [
    {
     "name": "stderr",
     "output_type": "stream",
     "text": [
      "/opt/conda/lib/python3.7/site-packages/gensim/similarities/__init__.py:15: UserWarning: The gensim.similarities.levenshtein submodule is disabled, because the optional Levenshtein package <https://pypi.org/project/python-Levenshtein/> is unavailable. Install Levenhstein (e.g. `pip install python-Levenshtein`) to suppress this warning.\n",
      "  warnings.warn(msg)\n"
     ]
    },
    {
     "data": {
      "text/plain": [
       "array([-0.3190452 ,  0.17484948, -0.17107269,  0.0210535 , -0.19189723,\n",
       "        0.06972351,  0.136914  , -0.12419365, -0.1379368 ,  0.1216744 ,\n",
       "       -0.21994627, -0.01295348,  0.05557725,  0.15874045, -0.1371444 ,\n",
       "        0.11383771], dtype=float32)"
      ]
     },
     "execution_count": 16,
     "metadata": {},
     "output_type": "execute_result"
    }
   ],
   "source": [
    "from gensim.models.keyedvectors import Word2VecKeyedVectors\n",
    "\n",
    "word2vec = Word2VecKeyedVectors.load_word2vec_format(word2vec_file_path, binary=False)\n",
    "vector = word2vec['사람']\n",
    "vector"
   ]
  },
  {
   "cell_type": "code",
   "execution_count": 17,
   "id": "killing-madness",
   "metadata": {},
   "outputs": [
    {
     "data": {
      "text/plain": [
       "[('점주', 0.9450762867927551),\n",
       " ('주관', 0.9360395669937134),\n",
       " ('차이', 0.9333500266075134),\n",
       " ('여', 0.9319793581962585),\n",
       " ('소설', 0.9274057745933533),\n",
       " ('http', 0.923757016658783),\n",
       " ('빙자', 0.920720100402832),\n",
       " ('정신', 0.9130425453186035),\n",
       " ('띄우', 0.9073964953422546),\n",
       " ('지라', 0.9034084677696228)]"
      ]
     },
     "execution_count": 17,
     "metadata": {},
     "output_type": "execute_result"
    }
   ],
   "source": [
    "word2vec.similar_by_word(\"사람\")"
   ]
  },
  {
   "cell_type": "code",
   "execution_count": 18,
   "id": "found-display",
   "metadata": {},
   "outputs": [],
   "source": [
    "vocab_size = 10000    # 어휘 사전의 크기입니다(10,000개의 단어)\n",
    "word_vector_dim = 16  # 워드 벡터의 차원수 (변경가능한 하이퍼파라미터)\n",
    "\n",
    "embedding_matrix = np.random.rand(vocab_size, word_vector_dim)\n",
    "\n",
    "# embedding_matrix에 Word2Vec 워드 벡터를 단어 하나씩마다 차례차례 카피한다.\n",
    "for i in range(6, vocab_size):\n",
    "    if index_to_word[i] in word2vec:\n",
    "        embedding_matrix[i] = word2vec[index_to_word[i]]"
   ]
  },
  {
   "cell_type": "code",
   "execution_count": 19,
   "id": "optional-catch",
   "metadata": {},
   "outputs": [
    {
     "name": "stdout",
     "output_type": "stream",
     "text": [
      "Model: \"sequential_1\"\n",
      "_________________________________________________________________\n",
      "Layer (type)                 Output Shape              Param #   \n",
      "=================================================================\n",
      "embedding_1 (Embedding)      (None, 41, 16)            160000    \n",
      "_________________________________________________________________\n",
      "conv1d (Conv1D)              (None, 35, 16)            1808      \n",
      "_________________________________________________________________\n",
      "max_pooling1d (MaxPooling1D) (None, 7, 16)             0         \n",
      "_________________________________________________________________\n",
      "conv1d_1 (Conv1D)            (None, 1, 16)             1808      \n",
      "_________________________________________________________________\n",
      "global_max_pooling1d (Global (None, 16)                0         \n",
      "_________________________________________________________________\n",
      "dense_2 (Dense)              (None, 8)                 136       \n",
      "_________________________________________________________________\n",
      "dense_3 (Dense)              (None, 1)                 9         \n",
      "=================================================================\n",
      "Total params: 163,761\n",
      "Trainable params: 163,761\n",
      "Non-trainable params: 0\n",
      "_________________________________________________________________\n"
     ]
    }
   ],
   "source": [
    "from tensorflow.keras.initializers import Constant\n",
    "\n",
    "vocab_size = 10000    # 어휘 사전의 크기입니다(10,000개의 단어)\n",
    "word_vector_dim = 16  # 워드 벡터의 차원 수 (변경가능한 하이퍼파라미터)\n",
    "\n",
    "# 모델 구성\n",
    "model = keras.Sequential()\n",
    "model.add(keras.layers.Embedding(vocab_size, \n",
    "                                 word_vector_dim, \n",
    "                                 embeddings_initializer=Constant(embedding_matrix),  # 카피한 임베딩을 여기서 활용\n",
    "                                 input_length=maxlen, \n",
    "                                 trainable=True))   # trainable을 True로 주면 Fine-tuning\n",
    "model.add(keras.layers.Conv1D(16, 7, activation='relu'))\n",
    "model.add(keras.layers.MaxPooling1D(5))\n",
    "model.add(keras.layers.Conv1D(16, 7, activation='relu'))\n",
    "model.add(keras.layers.GlobalMaxPooling1D())\n",
    "model.add(keras.layers.Dense(8, activation='relu'))\n",
    "model.add(keras.layers.Dense(1, activation='sigmoid')) \n",
    "\n",
    "model.summary()"
   ]
  },
  {
   "cell_type": "code",
   "execution_count": 20,
   "id": "automated-cuisine",
   "metadata": {},
   "outputs": [
    {
     "name": "stdout",
     "output_type": "stream",
     "text": [
      "Epoch 1/20\n",
      "266/266 [==============================] - 8s 20ms/step - loss: 0.5251 - accuracy: 0.7339 - val_loss: 0.3564 - val_accuracy: 0.8462\n",
      "Epoch 2/20\n",
      "266/266 [==============================] - 2s 7ms/step - loss: 0.2969 - accuracy: 0.8783 - val_loss: 0.3487 - val_accuracy: 0.8493\n",
      "Epoch 3/20\n",
      "266/266 [==============================] - 2s 7ms/step - loss: 0.2748 - accuracy: 0.8892 - val_loss: 0.3488 - val_accuracy: 0.8503\n",
      "Epoch 4/20\n",
      "266/266 [==============================] - 2s 7ms/step - loss: 0.2567 - accuracy: 0.8977 - val_loss: 0.3483 - val_accuracy: 0.8522\n",
      "Epoch 5/20\n",
      "266/266 [==============================] - 2s 7ms/step - loss: 0.2366 - accuracy: 0.9075 - val_loss: 0.3526 - val_accuracy: 0.8525\n",
      "Epoch 6/20\n",
      "266/266 [==============================] - 2s 7ms/step - loss: 0.2160 - accuracy: 0.9174 - val_loss: 0.3692 - val_accuracy: 0.8514\n",
      "Epoch 7/20\n",
      "266/266 [==============================] - 2s 7ms/step - loss: 0.1973 - accuracy: 0.9266 - val_loss: 0.3823 - val_accuracy: 0.8481\n",
      "Epoch 8/20\n",
      "266/266 [==============================] - 2s 7ms/step - loss: 0.1802 - accuracy: 0.9352 - val_loss: 0.4021 - val_accuracy: 0.8487\n",
      "Epoch 9/20\n",
      "266/266 [==============================] - 2s 7ms/step - loss: 0.1601 - accuracy: 0.9438 - val_loss: 0.4229 - val_accuracy: 0.8442\n",
      "Epoch 10/20\n",
      "266/266 [==============================] - 2s 7ms/step - loss: 0.1443 - accuracy: 0.9509 - val_loss: 0.4589 - val_accuracy: 0.8435\n",
      "Epoch 11/20\n",
      "266/266 [==============================] - 2s 7ms/step - loss: 0.1286 - accuracy: 0.9578 - val_loss: 0.4706 - val_accuracy: 0.8395\n",
      "Epoch 12/20\n",
      "266/266 [==============================] - 2s 7ms/step - loss: 0.1173 - accuracy: 0.9628 - val_loss: 0.5120 - val_accuracy: 0.8403\n",
      "Epoch 13/20\n",
      "266/266 [==============================] - 2s 7ms/step - loss: 0.1016 - accuracy: 0.9681 - val_loss: 0.5523 - val_accuracy: 0.8401\n",
      "Epoch 14/20\n",
      "266/266 [==============================] - 2s 7ms/step - loss: 0.0963 - accuracy: 0.9709 - val_loss: 0.5779 - val_accuracy: 0.8356\n",
      "Epoch 15/20\n",
      "266/266 [==============================] - 2s 7ms/step - loss: 0.0832 - accuracy: 0.9758 - val_loss: 0.6304 - val_accuracy: 0.8359\n",
      "Epoch 16/20\n",
      "266/266 [==============================] - 2s 7ms/step - loss: 0.0761 - accuracy: 0.9781 - val_loss: 0.6296 - val_accuracy: 0.8354\n",
      "Epoch 17/20\n",
      "266/266 [==============================] - 2s 7ms/step - loss: 0.0705 - accuracy: 0.9788 - val_loss: 0.6717 - val_accuracy: 0.8328\n",
      "Epoch 18/20\n",
      "266/266 [==============================] - 2s 7ms/step - loss: 0.0681 - accuracy: 0.9798 - val_loss: 0.7081 - val_accuracy: 0.8331\n",
      "Epoch 19/20\n",
      "266/266 [==============================] - 2s 7ms/step - loss: 0.0594 - accuracy: 0.9825 - val_loss: 0.7730 - val_accuracy: 0.8319\n",
      "Epoch 20/20\n",
      "266/266 [==============================] - 2s 7ms/step - loss: 0.0571 - accuracy: 0.9831 - val_loss: 0.8132 - val_accuracy: 0.8326\n"
     ]
    }
   ],
   "source": [
    "# 학습의 진행\n",
    "model.compile(optimizer='adam',\n",
    "              loss='binary_crossentropy',\n",
    "              metrics=['accuracy'])\n",
    "              \n",
    "epochs=20  # 몇 epoch를 훈련하면 좋을지 결과를 보면서 바꾸어 봅시다. \n",
    "\n",
    "history = model.fit(partial_X_train,\n",
    "                    partial_y_train,\n",
    "                    epochs=epochs,\n",
    "                    batch_size=512,\n",
    "                    validation_data=(x_val, y_val),\n",
    "                    verbose=1)"
   ]
  },
  {
   "cell_type": "code",
   "execution_count": 21,
   "id": "laughing-second",
   "metadata": {},
   "outputs": [
    {
     "name": "stdout",
     "output_type": "stream",
     "text": [
      "1537/1537 - 4s - loss: 0.8416 - accuracy: 0.8299\n",
      "[0.8415787816047668, 0.8298512697219849]\n"
     ]
    }
   ],
   "source": [
    "results = model.evaluate(X_test,  y_test, verbose=2)\n",
    "\n",
    "print(results)"
   ]
  },
  {
   "cell_type": "markdown",
   "id": "seven-niger",
   "metadata": {},
   "source": [
    "---\n",
    "## 정리 \n",
    "train data가 크기가 작기 때문에 loss값이 작게 나왔지만, 실제 test데이터를 model에 넣고 평가해보면 loss값이 train때보다 크다.   \n",
    "다양한 모델을 이용해서 임베딩을 할수 있지만, 가장 적합한 것은 역시 RNN인 것 같다.\n",
    "RNN모델을 사용 시 loss와 accuracy 둘다 안정적이다."
   ]
  }
 ],
 "metadata": {
  "kernelspec": {
   "display_name": "Python 3",
   "language": "python",
   "name": "python3"
  },
  "language_info": {
   "codemirror_mode": {
    "name": "ipython",
    "version": 3
   },
   "file_extension": ".py",
   "mimetype": "text/x-python",
   "name": "python",
   "nbconvert_exporter": "python",
   "pygments_lexer": "ipython3",
   "version": "3.7.9"
  }
 },
 "nbformat": 4,
 "nbformat_minor": 5
}
